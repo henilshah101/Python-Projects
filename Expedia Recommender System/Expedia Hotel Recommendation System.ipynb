{
 "cells": [
  {
   "cell_type": "markdown",
   "id": "2b020b7c-aa7b-43f0-b31c-7aab7f306634",
   "metadata": {},
   "source": [
    "## Introduction\n",
    "\n",
    "In this project, we work on the Expedia Hotel Recommendation dataset. In this dataset, Expedia provides logs of customer behavior which include what customers searched for and how they interacted with search results (click/book). Our goal is to predict the booking outcome (hotel cluster) for a user event, based on their search and other attributes associated with that user event. As the competition, the goal is not just to provide one cluster but to rank the predictions and return top 5 most likely hotel clusters out of 100 clusters for each event.\n",
    "\n",
    "The problem can be modeled as a ranked multi-class classification task. Missing data and the curse of dimenionality are main challenge of this dataset. We apply multiple approachs for this problem, which include:\n",
    "* Naive Bayes (for baseline method)\n",
    "* KNN\n",
    "* Random Forest\n",
    "* Support Vector Machine\n",
    "\n",
    "Also, note that there was a leak in the data during the contest. The leak affected approximately 30% of the test data. Expedia confirmed that one can find hotel cluster by matching the rows from the train dataset based one some columns: user_location_country, user_location_region, user_location_city, orig_desination_distance and hotel_market. However, predictions based on this will not be 100% accurate.\n"
   ]
  },
  {
   "cell_type": "markdown",
   "id": "e59c8d76-2f87-4b12-b203-24258e2a8b4d",
   "metadata": {},
   "source": [
    "## Data descriptive\n",
    "\n",
    "On the Kaggle site, the train and test datasets are split based on time: training data from 2013 and 2014, while test data are from 2015. Training data includes all the users in the logs, including both click events and booking events. Test data only includes booking events. The training set has ~37 mil entries and the test set contains 2.5 mil entries.\n",
    "\n",
    "Since the result for the test set is not published, we just work on the train dataset. Moreover, we observe: \n",
    "* There are many users who search for the hotel without making any reservation (~92% of training set), \n",
    "* The purpose of the competition is predicting for the booking event\n",
    "\n",
    "Therefore, we will use the booking only subset of the dataset (i.e. is_booking==1) for our analysis. So, the booking dataset we will work on has 3,000,693 entries. There are 2 set of features: \n",
    "1. The log search event of users (22 features) which provide information:\n",
    "    * User info: location (city, country, region), user id \n",
    "    * Trip: destination (hotel continent, country, market), check in/out date, number of room, number of children/adults\n",
    "    * Booking site: site name, continent of site name\n",
    "2. The latent features (149 features) about destinations extracted from hotel review text on subjects relevant to hotel services such as cleanliness, attractions, etc. Those features can be mapped by srch_destination_id of search event feature set. \n",
    "\n",
    "Let take a closer look at the data to see the activities of customers. "
   ]
  },
  {
   "cell_type": "code",
   "execution_count": 1,
   "id": "93e26372-7ae8-4fbe-b6e8-af22bffc282b",
   "metadata": {},
   "outputs": [],
   "source": [
    "import numpy as np\n",
    "import pandas as pd\n",
    "import matplotlib.pyplot as plt\n",
    "import seaborn as sns\n",
    "sns.set_style('whitegrid')\n",
    "%matplotlib inline\n",
    "\n",
    "#Load the dataset of booking event.\n",
    "PATH= '/Users/Hrachya/Desktop/DATA/train.csv'\n",
    "df= pd.read_csv(PATH)\n",
    "df= df.loc[df['is_booking']==1]\n",
    "df= df.drop(['is_booking'], axis=1)"
   ]
  },
  {
   "cell_type": "code",
   "execution_count": 2,
   "id": "4bee333a-189c-49b4-ab5f-9500711dfb2f",
   "metadata": {},
   "outputs": [
    {
     "name": "stdout",
     "output_type": "stream",
     "text": [
      "<class 'pandas.core.frame.DataFrame'>\n",
      "Int64Index: 3000693 entries, 1 to 37670292\n",
      "Data columns (total 23 columns):\n",
      " #   Column                     Dtype  \n",
      "---  ------                     -----  \n",
      " 0   date_time                  object \n",
      " 1   site_name                  int64  \n",
      " 2   posa_continent             int64  \n",
      " 3   user_location_country      int64  \n",
      " 4   user_location_region       int64  \n",
      " 5   user_location_city         int64  \n",
      " 6   orig_destination_distance  float64\n",
      " 7   user_id                    int64  \n",
      " 8   is_mobile                  int64  \n",
      " 9   is_package                 int64  \n",
      " 10  channel                    int64  \n",
      " 11  srch_ci                    object \n",
      " 12  srch_co                    object \n",
      " 13  srch_adults_cnt            int64  \n",
      " 14  srch_children_cnt          int64  \n",
      " 15  srch_rm_cnt                int64  \n",
      " 16  srch_destination_id        int64  \n",
      " 17  srch_destination_type_id   int64  \n",
      " 18  cnt                        int64  \n",
      " 19  hotel_continent            int64  \n",
      " 20  hotel_country              int64  \n",
      " 21  hotel_market               int64  \n",
      " 22  hotel_cluster              int64  \n",
      "dtypes: float64(1), int64(19), object(3)\n",
      "memory usage: 549.4+ MB\n"
     ]
    }
   ],
   "source": [
    "#See the information of dataset\n",
    "df.info()"
   ]
  },
  {
   "cell_type": "code",
   "execution_count": 3,
   "id": "c31b9c86-c3e1-44b2-8708-666c749bb738",
   "metadata": {},
   "outputs": [
    {
     "data": {
      "text/html": [
       "<div>\n",
       "<style scoped>\n",
       "    .dataframe tbody tr th:only-of-type {\n",
       "        vertical-align: middle;\n",
       "    }\n",
       "\n",
       "    .dataframe tbody tr th {\n",
       "        vertical-align: top;\n",
       "    }\n",
       "\n",
       "    .dataframe thead th {\n",
       "        text-align: right;\n",
       "    }\n",
       "</style>\n",
       "<table border=\"1\" class=\"dataframe\">\n",
       "  <thead>\n",
       "    <tr style=\"text-align: right;\">\n",
       "      <th></th>\n",
       "      <th>date_time</th>\n",
       "      <th>site_name</th>\n",
       "      <th>posa_continent</th>\n",
       "      <th>user_location_country</th>\n",
       "      <th>user_location_region</th>\n",
       "      <th>user_location_city</th>\n",
       "      <th>orig_destination_distance</th>\n",
       "      <th>user_id</th>\n",
       "      <th>is_mobile</th>\n",
       "      <th>is_package</th>\n",
       "      <th>...</th>\n",
       "      <th>srch_adults_cnt</th>\n",
       "      <th>srch_children_cnt</th>\n",
       "      <th>srch_rm_cnt</th>\n",
       "      <th>srch_destination_id</th>\n",
       "      <th>srch_destination_type_id</th>\n",
       "      <th>cnt</th>\n",
       "      <th>hotel_continent</th>\n",
       "      <th>hotel_country</th>\n",
       "      <th>hotel_market</th>\n",
       "      <th>hotel_cluster</th>\n",
       "    </tr>\n",
       "  </thead>\n",
       "  <tbody>\n",
       "    <tr>\n",
       "      <th>1</th>\n",
       "      <td>2014-08-11 08:22:12</td>\n",
       "      <td>2</td>\n",
       "      <td>3</td>\n",
       "      <td>66</td>\n",
       "      <td>348</td>\n",
       "      <td>48862</td>\n",
       "      <td>2234.2641</td>\n",
       "      <td>12</td>\n",
       "      <td>0</td>\n",
       "      <td>1</td>\n",
       "      <td>...</td>\n",
       "      <td>2</td>\n",
       "      <td>0</td>\n",
       "      <td>1</td>\n",
       "      <td>8250</td>\n",
       "      <td>1</td>\n",
       "      <td>1</td>\n",
       "      <td>2</td>\n",
       "      <td>50</td>\n",
       "      <td>628</td>\n",
       "      <td>1</td>\n",
       "    </tr>\n",
       "    <tr>\n",
       "      <th>20</th>\n",
       "      <td>2014-02-27 18:01:32</td>\n",
       "      <td>2</td>\n",
       "      <td>3</td>\n",
       "      <td>66</td>\n",
       "      <td>318</td>\n",
       "      <td>52078</td>\n",
       "      <td>NaN</td>\n",
       "      <td>756</td>\n",
       "      <td>0</td>\n",
       "      <td>1</td>\n",
       "      <td>...</td>\n",
       "      <td>2</td>\n",
       "      <td>0</td>\n",
       "      <td>1</td>\n",
       "      <td>8291</td>\n",
       "      <td>1</td>\n",
       "      <td>1</td>\n",
       "      <td>2</td>\n",
       "      <td>50</td>\n",
       "      <td>191</td>\n",
       "      <td>2</td>\n",
       "    </tr>\n",
       "    <tr>\n",
       "      <th>27</th>\n",
       "      <td>2013-06-15 15:38:05</td>\n",
       "      <td>30</td>\n",
       "      <td>4</td>\n",
       "      <td>195</td>\n",
       "      <td>548</td>\n",
       "      <td>56440</td>\n",
       "      <td>NaN</td>\n",
       "      <td>1048</td>\n",
       "      <td>0</td>\n",
       "      <td>1</td>\n",
       "      <td>...</td>\n",
       "      <td>2</td>\n",
       "      <td>0</td>\n",
       "      <td>1</td>\n",
       "      <td>1385</td>\n",
       "      <td>1</td>\n",
       "      <td>1</td>\n",
       "      <td>0</td>\n",
       "      <td>185</td>\n",
       "      <td>185</td>\n",
       "      <td>58</td>\n",
       "    </tr>\n",
       "    <tr>\n",
       "      <th>72</th>\n",
       "      <td>2014-11-23 18:02:20</td>\n",
       "      <td>30</td>\n",
       "      <td>4</td>\n",
       "      <td>195</td>\n",
       "      <td>991</td>\n",
       "      <td>47725</td>\n",
       "      <td>NaN</td>\n",
       "      <td>1048</td>\n",
       "      <td>0</td>\n",
       "      <td>0</td>\n",
       "      <td>...</td>\n",
       "      <td>2</td>\n",
       "      <td>0</td>\n",
       "      <td>1</td>\n",
       "      <td>8803</td>\n",
       "      <td>1</td>\n",
       "      <td>1</td>\n",
       "      <td>3</td>\n",
       "      <td>151</td>\n",
       "      <td>69</td>\n",
       "      <td>36</td>\n",
       "    </tr>\n",
       "    <tr>\n",
       "      <th>79</th>\n",
       "      <td>2014-01-03 16:30:17</td>\n",
       "      <td>2</td>\n",
       "      <td>3</td>\n",
       "      <td>66</td>\n",
       "      <td>462</td>\n",
       "      <td>41898</td>\n",
       "      <td>2454.8588</td>\n",
       "      <td>1482</td>\n",
       "      <td>0</td>\n",
       "      <td>1</td>\n",
       "      <td>...</td>\n",
       "      <td>3</td>\n",
       "      <td>0</td>\n",
       "      <td>2</td>\n",
       "      <td>12009</td>\n",
       "      <td>1</td>\n",
       "      <td>1</td>\n",
       "      <td>2</td>\n",
       "      <td>50</td>\n",
       "      <td>680</td>\n",
       "      <td>95</td>\n",
       "    </tr>\n",
       "  </tbody>\n",
       "</table>\n",
       "<p>5 rows × 23 columns</p>\n",
       "</div>"
      ],
      "text/plain": [
       "              date_time  site_name  posa_continent  user_location_country  \\\n",
       "1   2014-08-11 08:22:12          2               3                     66   \n",
       "20  2014-02-27 18:01:32          2               3                     66   \n",
       "27  2013-06-15 15:38:05         30               4                    195   \n",
       "72  2014-11-23 18:02:20         30               4                    195   \n",
       "79  2014-01-03 16:30:17          2               3                     66   \n",
       "\n",
       "    user_location_region  user_location_city  orig_destination_distance  \\\n",
       "1                    348               48862                  2234.2641   \n",
       "20                   318               52078                        NaN   \n",
       "27                   548               56440                        NaN   \n",
       "72                   991               47725                        NaN   \n",
       "79                   462               41898                  2454.8588   \n",
       "\n",
       "    user_id  is_mobile  is_package  ...  srch_adults_cnt srch_children_cnt  \\\n",
       "1        12          0           1  ...                2                 0   \n",
       "20      756          0           1  ...                2                 0   \n",
       "27     1048          0           1  ...                2                 0   \n",
       "72     1048          0           0  ...                2                 0   \n",
       "79     1482          0           1  ...                3                 0   \n",
       "\n",
       "   srch_rm_cnt  srch_destination_id  srch_destination_type_id  cnt  \\\n",
       "1            1                 8250                         1    1   \n",
       "20           1                 8291                         1    1   \n",
       "27           1                 1385                         1    1   \n",
       "72           1                 8803                         1    1   \n",
       "79           2                12009                         1    1   \n",
       "\n",
       "    hotel_continent  hotel_country  hotel_market  hotel_cluster  \n",
       "1                 2             50           628              1  \n",
       "20                2             50           191              2  \n",
       "27                0            185           185             58  \n",
       "72                3            151            69             36  \n",
       "79                2             50           680             95  \n",
       "\n",
       "[5 rows x 23 columns]"
      ]
     },
     "execution_count": 3,
     "metadata": {},
     "output_type": "execute_result"
    }
   ],
   "source": [
    "#5 head data points\n",
    "df.head()"
   ]
  },
  {
   "cell_type": "code",
   "execution_count": 4,
   "id": "3463fbfd-93a3-455f-b299-5540f22a324a",
   "metadata": {},
   "outputs": [
    {
     "data": {
      "image/png": "[encoded data removed]",
      "text/plain": [
       "<Figure size 432x288 with 1 Axes>"
      ]
     },
     "metadata": {
      "needs_background": "light"
     },
     "output_type": "display_data"
    }
   ],
   "source": [
    "# The frequency for each hotel_clusters\n",
    "clus_fre= [(df['hotel_cluster']==i).sum() for i in range(100)]\n",
    "plt.plot(range(100),clus_fre)\n",
    "plt.xlabel('Hotel cluster')\n",
    "plt.ylabel('Frequency')\n",
    "plt.title('The frequency of hotel cluster', fontsize=12)\n",
    "plt.show()"
   ]
  },
  {
   "cell_type": "code",
   "execution_count": 5,
   "id": "1da4aefe-7887-46ec-bb90-b5155e34e789",
   "metadata": {},
   "outputs": [
    {
     "data": {
      "text/plain": [
       "<AxesSubplot:title={'center':'10 most frequency hotel clusters account for 22.9% '}, xlabel='Hotel cluster', ylabel='%'>"
      ]
     },
     "execution_count": 5,
     "metadata": {},
     "output_type": "execute_result"
    },
    {
     "data": {
      "image/png": "[encoded data removed]",
      "text/plain": [
       "<Figure size 432x288 with 1 Axes>"
      ]
     },
     "metadata": {
      "needs_background": "light"
     },
     "output_type": "display_data"
    }
   ],
   "source": [
    "# Top 10 frequent hotel_clusters\n",
    "s=(df[\"hotel_cluster\"].value_counts()/df.shape[0]*100)[:10].sum()\n",
    "((df[\"hotel_cluster\"].value_counts()/df.shape[0]*100)[:10]).plot(title= f'10 most frequency hotel clusters account for {s:3.3}% ',ylabel='%', xlabel='Hotel cluster', kind='bar',colormap=\"Set2\",figsize=(6,4))"
   ]
  },
  {
   "cell_type": "markdown",
   "id": "738a770b-a049-4d30-a181-7ca424e06a57",
   "metadata": {},
   "source": [
    "Customer location is presented by 3 freatures: \n",
    "* user_location_country: 235 countries\n",
    "* user_location_region: 970 regions\n",
    "* user_location_city: 36,917 cities\n",
    "\n",
    "Notice that not each city or region just belongs to one country. For example, city == 56507 is in countries [61, 66, 69] or region 0 are in 35 different countries. "
   ]
  },
  {
   "cell_type": "code",
   "execution_count": 6,
   "id": "c3961fd8-d9f1-4935-8272-85daf0791c59",
   "metadata": {},
   "outputs": [],
   "source": [
    "#Number of cities\n",
    "#len(df['user_location_city'].unique())\n",
    "\n",
    "#Number of countries\n",
    "#b=len(df['user_location_country'].unique()) \n",
    "\n",
    "#Number of regions\n",
    "#c=len(df['user_location_region'].unique()) "
   ]
  },
  {
   "cell_type": "code",
   "execution_count": 7,
   "id": "aa3a0f83-e736-4ab1-ba53-81f43dd0b3ea",
   "metadata": {},
   "outputs": [
    {
     "data": {
      "text/plain": [
       "<AxesSubplot:title={'center':'Top 10 cities customers come from, 10.2% '}, xlabel='Cities', ylabel='%'>"
      ]
     },
     "execution_count": 7,
     "metadata": {},
     "output_type": "execute_result"
    },
    {
     "data": {
      "image/png": "[encoded data removed]",
      "text/plain": [
       "<Figure size 1296x288 with 3 Axes>"
      ]
     },
     "metadata": {
      "needs_background": "light"
     },
     "output_type": "display_data"
    }
   ],
   "source": [
    "fig, (axis1,axis2,axis3) = plt.subplots(1,3,figsize=(18,4))\n",
    "\n",
    "# Top 10 countries customers come from\n",
    "c=(df[\"user_location_country\"].value_counts()/df.shape[0]*100)[:10].sum()\n",
    "((df[\"user_location_country\"].value_counts()/df.shape[0]*100)[:10]).plot(title= f'Top 10 countries customers come from, {c:3.3}% ', ylabel='%', xlabel='Country', kind='bar', colormap=\"Set2\",ax=axis1)\n",
    "\n",
    "# Top 10 regions customers come from\n",
    "c=(df[\"user_location_region\"].value_counts()/df.shape[0]*100)[:10].sum()\n",
    "((df[\"user_location_region\"].value_counts()/df.shape[0]*100)[:10]).plot(title= f'Top 10 regions customers come from, {c:3.3}% ', ylabel='%', xlabel='Region', kind='bar', colormap=\"Set2\",ax=axis2)\n",
    "\n",
    "# Top 10 cities customers come from\n",
    "c=(df[\"user_location_city\"].value_counts()/df.shape[0]*100)[:10].sum()\n",
    "((df[\"user_location_city\"].value_counts()/df.shape[0]*100)[:10]).plot(title= f'Top 10 cities customers come from, {c:3.3}% ', ylabel='%', xlabel='Cities', kind='bar', colormap=\"Set2\",ax=axis3)"
   ]
  },
  {
   "cell_type": "markdown",
   "id": "778f5e5e-c804-4a08-8a0c-69a2f5fc97ec",
   "metadata": {},
   "source": [
    "Destination location is presented by 3 freatures: \n",
    "* hotel_continent: 7 continents\n",
    "* hotel_country: 205 countries\n",
    "* hotel_market: 2,103 markets "
   ]
  },
  {
   "cell_type": "code",
   "execution_count": 8,
   "id": "4a3d8e6c-0232-4d5a-b0fc-78d26ab5e08c",
   "metadata": {},
   "outputs": [],
   "source": [
    "#Number of hotel_continent \n",
    "#len(df['hotel_continent'].unique())\n",
    "#Number of countries\n",
    "#len(df['hotel_country'].unique()) \n",
    "#Number of markets\n",
    "#len(df['hotel_market'].unique()) "
   ]
  },
  {
   "cell_type": "code",
   "execution_count": 9,
   "id": "4a8c5935-22e2-4b08-bed8-1efbcba718ad",
   "metadata": {},
   "outputs": [
    {
     "data": {
      "text/plain": [
       "<AxesSubplot:title={'center':'Top 10 hotel market customers travel to, 20.4% '}, xlabel='Hotel market', ylabel='%'>"
      ]
     },
     "execution_count": 9,
     "metadata": {},
     "output_type": "execute_result"
    },
    {
     "data": {
      "image/png": "[encoded data removed]",
      "text/plain": [
       "<Figure size 1296x288 with 3 Axes>"
      ]
     },
     "metadata": {
      "needs_background": "light"
     },
     "output_type": "display_data"
    }
   ],
   "source": [
    "# Where customers travel to\n",
    "fig, (axis1,axis2,axis3) = plt.subplots(1,3,figsize=(18,4))\n",
    "#Continents customer travel to \n",
    "((df[\"hotel_continent\"].value_counts()/df.shape[0]*100)[:10]).plot(title= f'The frequency of continent customers travel to',ylabel='Frequency',xlabel='Continent', kind='bar',ax= axis1)\n",
    "\n",
    "# Top 10 counties customer travel to \n",
    "c=(df[\"hotel_country\"].value_counts()/df.shape[0]*100)[:10].sum()\n",
    "((df[\"hotel_country\"].value_counts()/df.shape[0]*100)[:10]).plot(title= f'Top 10 countries customers travel to, {c:3.3}% ',ylabel='%',xlabel='Countries', kind='bar',ax= axis2)\n",
    "\n",
    "#Top 10 market customer travel to\n",
    "# Top 10 counties customer travel to \n",
    "c=(df[\"hotel_market\"].value_counts()/df.shape[0]*100)[:10].sum()\n",
    "((df[\"hotel_market\"].value_counts()/df.shape[0]*100)[:10]).plot(title= f'Top 10 hotel market customers travel to, {c:3.3}% ',ylabel='%',xlabel='Hotel market', kind='bar',ax= axis3)"
   ]
  },
  {
   "cell_type": "code",
   "execution_count": 10,
   "id": "caddc82a-baba-4176-b0e5-35261c56ab6c",
   "metadata": {},
   "outputs": [
    {
     "data": {
      "text/plain": [
       "Text(0.5, 1.0, 'Hotel cluster frequency of user_location_city =48862, hotel_market=628 ')"
      ]
     },
     "execution_count": 10,
     "metadata": {},
     "output_type": "execute_result"
    },
    {
     "data": {
      "image/png": "[encoded data removed]",
      "text/plain": [
       "<Figure size 1152x720 with 4 Axes>"
      ]
     },
     "metadata": {
      "needs_background": "light"
     },
     "output_type": "display_data"
    }
   ],
   "source": [
    "fig, ((axis1, axis2),(axis3,axis4)) = plt.subplots(2,2, figsize=(16,10))\n",
    "#From the original country 66, which hotel clusters customers often chose\n",
    "country=df[df['user_location_country']==66]\n",
    "clus_fre6= [(country['hotel_cluster']==i).sum() for i in range(100)]\n",
    "axis1.plot(range(100),clus_fre6, color= 'green',)\n",
    "axis1.set_xlabel('Hotel cluster')\n",
    "axis1.set_ylabel('Frequency')\n",
    "axis1.set_title('Hotel cluster frequency of customer from country 66 ', fontsize=12)\n",
    "\n",
    "#In destination country 50, which hotel culters are more common.\n",
    "des50=df[df['hotel_country']==50]\n",
    "clus_fre50= [(des50['hotel_cluster']==i).sum() for i in range(100)]\n",
    "axis2.plot(range(100),clus_fre50,color='green')\n",
    "axis2.set_xlabel('Hotel cluster')\n",
    "axis2.set_ylabel('Frequency')\n",
    "axis2.set_title('Hotel cluster frequency of hotel country 50 ', fontsize=12)\n",
    "\n",
    "#In from country 66 to country 50, which hotel culters are more common.\n",
    "des56=df[(df['hotel_country']==50) & (df['user_location_country']==66)]\n",
    "clus_fre56= [(des56['hotel_cluster']==i).sum() for i in range(100)]\n",
    "axis3.plot(range(100),clus_fre56,color='green')\n",
    "axis3.set_xlabel('Hotel cluster')\n",
    "axis3.set_ylabel('Frequency')\n",
    "axis3.set_title('Hotel cluster frequency of customer_country =66, hotel_country=50 ', fontsize=12)\n",
    "\n",
    "#In from city 48862 to market 628, which hotel culters are more common.\n",
    "des=df[(df['hotel_market']==628) & (df['user_location_city']==48862)]\n",
    "clus_fre_4= [(des['hotel_cluster']==i).sum() for i in range(100)]\n",
    "axis4.plot(range(100),clus_fre_4,color='green')\n",
    "axis4.set_xlabel('Hotel cluster')\n",
    "axis4.set_ylabel('Frequency')\n",
    "axis4.set_title('Hotel cluster frequency of user_location_city =48862, hotel_market=628 ', fontsize=12)"
   ]
  },
  {
   "cell_type": "code",
   "execution_count": 11,
   "id": "1257bbdd-f53f-49de-a4ed-8535be0781d4",
   "metadata": {},
   "outputs": [
    {
     "data": {
      "text/plain": [
       "Text(0.5, 1.0, 'Number of adults frequency')"
      ]
     },
     "execution_count": 11,
     "metadata": {},
     "output_type": "execute_result"
    },
    {
     "data": {
      "image/png": "[encoded data removed]",
      "text/plain": [
       "<Figure size 1296x288 with 3 Axes>"
      ]
     },
     "metadata": {
      "needs_background": "light"
     },
     "output_type": "display_data"
    }
   ],
   "source": [
    "#Number of room, children, adults\n",
    "fig, (axis1,axis2,axis3) = plt.subplots(1,3,figsize=(18,4))\n",
    "\n",
    "#Number of room \n",
    "room= [(df['srch_rm_cnt']==i).sum() for i in range(1,10)]\n",
    "axis1.plot(range(1,10),room, color= 'blue',)\n",
    "axis1.set_xlabel('Number of rooms')\n",
    "axis1.set_ylabel('Frequency')\n",
    "axis1.set_title('Number of room frequency', fontsize=12)\n",
    "\n",
    "#Number of children\n",
    "chil= [(df['srch_children_cnt']==i).sum() for i in range(10)]\n",
    "axis2.plot(range(10),chil,color='green')\n",
    "axis2.set_xlabel('Number of children')\n",
    "axis2.set_ylabel('Frequency')\n",
    "axis2.set_title('Number of children frequency', fontsize=12)\n",
    "\n",
    "#Number of adults srch_adults_cnt\n",
    "ad= [(df['srch_adults_cnt']==i).sum() for i in range(10)]\n",
    "axis3.plot(range(10),ad,color='red')\n",
    "axis3.set_xlabel('Number of adults')\n",
    "axis3.set_ylabel('Frequency')\n",
    "axis3.set_title('Number of adults frequency', fontsize=12)"
   ]
  },
  {
   "cell_type": "code",
   "execution_count": 12,
   "id": "cc48e285-a817-422a-a5ea-aee40782c531",
   "metadata": {},
   "outputs": [
    {
     "data": {
      "text/plain": [
       "<AxesSubplot:>"
      ]
     },
     "execution_count": 12,
     "metadata": {},
     "output_type": "execute_result"
    },
    {
     "data": {
      "image/png": "[encoded data removed]",
      "text/plain": [
       "<Figure size 720x432 with 2 Axes>"
      ]
     },
     "metadata": {
      "needs_background": "light"
     },
     "output_type": "display_data"
    }
   ],
   "source": [
    "#Data correlation with target\n",
    "corre= df.corr()\n",
    "plt.figure(figsize=(10,6))\n",
    "sns.heatmap(corre)"
   ]
  },
  {
   "cell_type": "code",
   "execution_count": 13,
   "id": "4422454a-b911-416d-859d-c3a4adf6c623",
   "metadata": {},
   "outputs": [],
   "source": [
    "#Load the latent features from destination file\n",
    "des='/Users/Hrachya/Desktop/DATA/destinations.csv'\n",
    "dest= pd.read_csv(des)"
   ]
  },
  {
   "cell_type": "code",
   "execution_count": 14,
   "id": "2829d8fd-3e77-4a1a-967d-24c8d713089a",
   "metadata": {},
   "outputs": [
    {
     "data": {
      "text/plain": [
       "(62106, 150)"
      ]
     },
     "execution_count": 14,
     "metadata": {},
     "output_type": "execute_result"
    }
   ],
   "source": [
    "dest.shape"
   ]
  },
  {
   "cell_type": "code",
   "execution_count": 15,
   "id": "d7031bda-b5b0-4c7e-b9e3-5c439adb4a2b",
   "metadata": {},
   "outputs": [
    {
     "data": {
      "text/html": [
       "<div>\n",
       "<style scoped>\n",
       "    .dataframe tbody tr th:only-of-type {\n",
       "        vertical-align: middle;\n",
       "    }\n",
       "\n",
       "    .dataframe tbody tr th {\n",
       "        vertical-align: top;\n",
       "    }\n",
       "\n",
       "    .dataframe thead th {\n",
       "        text-align: right;\n",
       "    }\n",
       "</style>\n",
       "<table border=\"1\" class=\"dataframe\">\n",
       "  <thead>\n",
       "    <tr style=\"text-align: right;\">\n",
       "      <th></th>\n",
       "      <th>srch_destination_id</th>\n",
       "      <th>d1</th>\n",
       "      <th>d2</th>\n",
       "      <th>d3</th>\n",
       "      <th>d4</th>\n",
       "      <th>d5</th>\n",
       "      <th>d6</th>\n",
       "      <th>d7</th>\n",
       "      <th>d8</th>\n",
       "      <th>d9</th>\n",
       "      <th>...</th>\n",
       "      <th>d140</th>\n",
       "      <th>d141</th>\n",
       "      <th>d142</th>\n",
       "      <th>d143</th>\n",
       "      <th>d144</th>\n",
       "      <th>d145</th>\n",
       "      <th>d146</th>\n",
       "      <th>d147</th>\n",
       "      <th>d148</th>\n",
       "      <th>d149</th>\n",
       "    </tr>\n",
       "  </thead>\n",
       "  <tbody>\n",
       "    <tr>\n",
       "      <th>0</th>\n",
       "      <td>0</td>\n",
       "      <td>-2.198657</td>\n",
       "      <td>-2.198657</td>\n",
       "      <td>-2.198657</td>\n",
       "      <td>-2.198657</td>\n",
       "      <td>-2.198657</td>\n",
       "      <td>-1.897627</td>\n",
       "      <td>-2.198657</td>\n",
       "      <td>-2.198657</td>\n",
       "      <td>-1.897627</td>\n",
       "      <td>...</td>\n",
       "      <td>-2.198657</td>\n",
       "      <td>-2.198657</td>\n",
       "      <td>-2.198657</td>\n",
       "      <td>-2.198657</td>\n",
       "      <td>-2.198657</td>\n",
       "      <td>-2.198657</td>\n",
       "      <td>-2.198657</td>\n",
       "      <td>-2.198657</td>\n",
       "      <td>-2.198657</td>\n",
       "      <td>-2.198657</td>\n",
       "    </tr>\n",
       "    <tr>\n",
       "      <th>1</th>\n",
       "      <td>1</td>\n",
       "      <td>-2.181690</td>\n",
       "      <td>-2.181690</td>\n",
       "      <td>-2.181690</td>\n",
       "      <td>-2.082564</td>\n",
       "      <td>-2.181690</td>\n",
       "      <td>-2.165028</td>\n",
       "      <td>-2.181690</td>\n",
       "      <td>-2.181690</td>\n",
       "      <td>-2.031597</td>\n",
       "      <td>...</td>\n",
       "      <td>-2.165028</td>\n",
       "      <td>-2.181690</td>\n",
       "      <td>-2.165028</td>\n",
       "      <td>-2.181690</td>\n",
       "      <td>-2.181690</td>\n",
       "      <td>-2.165028</td>\n",
       "      <td>-2.181690</td>\n",
       "      <td>-2.181690</td>\n",
       "      <td>-2.181690</td>\n",
       "      <td>-2.181690</td>\n",
       "    </tr>\n",
       "    <tr>\n",
       "      <th>2</th>\n",
       "      <td>2</td>\n",
       "      <td>-2.183490</td>\n",
       "      <td>-2.224164</td>\n",
       "      <td>-2.224164</td>\n",
       "      <td>-2.189562</td>\n",
       "      <td>-2.105819</td>\n",
       "      <td>-2.075407</td>\n",
       "      <td>-2.224164</td>\n",
       "      <td>-2.118483</td>\n",
       "      <td>-2.140393</td>\n",
       "      <td>...</td>\n",
       "      <td>-2.224164</td>\n",
       "      <td>-2.224164</td>\n",
       "      <td>-2.196379</td>\n",
       "      <td>-2.224164</td>\n",
       "      <td>-2.192009</td>\n",
       "      <td>-2.224164</td>\n",
       "      <td>-2.224164</td>\n",
       "      <td>-2.224164</td>\n",
       "      <td>-2.224164</td>\n",
       "      <td>-2.057548</td>\n",
       "    </tr>\n",
       "    <tr>\n",
       "      <th>3</th>\n",
       "      <td>3</td>\n",
       "      <td>-2.177409</td>\n",
       "      <td>-2.177409</td>\n",
       "      <td>-2.177409</td>\n",
       "      <td>-2.177409</td>\n",
       "      <td>-2.177409</td>\n",
       "      <td>-2.115485</td>\n",
       "      <td>-2.177409</td>\n",
       "      <td>-2.177409</td>\n",
       "      <td>-2.177409</td>\n",
       "      <td>...</td>\n",
       "      <td>-2.161081</td>\n",
       "      <td>-2.177409</td>\n",
       "      <td>-2.177409</td>\n",
       "      <td>-2.177409</td>\n",
       "      <td>-2.177409</td>\n",
       "      <td>-2.177409</td>\n",
       "      <td>-2.177409</td>\n",
       "      <td>-2.177409</td>\n",
       "      <td>-2.177409</td>\n",
       "      <td>-2.177409</td>\n",
       "    </tr>\n",
       "    <tr>\n",
       "      <th>4</th>\n",
       "      <td>4</td>\n",
       "      <td>-2.189562</td>\n",
       "      <td>-2.187783</td>\n",
       "      <td>-2.194008</td>\n",
       "      <td>-2.171153</td>\n",
       "      <td>-2.152303</td>\n",
       "      <td>-2.056618</td>\n",
       "      <td>-2.194008</td>\n",
       "      <td>-2.194008</td>\n",
       "      <td>-2.145911</td>\n",
       "      <td>...</td>\n",
       "      <td>-2.187356</td>\n",
       "      <td>-2.194008</td>\n",
       "      <td>-2.191779</td>\n",
       "      <td>-2.194008</td>\n",
       "      <td>-2.194008</td>\n",
       "      <td>-2.185161</td>\n",
       "      <td>-2.194008</td>\n",
       "      <td>-2.194008</td>\n",
       "      <td>-2.194008</td>\n",
       "      <td>-2.188037</td>\n",
       "    </tr>\n",
       "  </tbody>\n",
       "</table>\n",
       "<p>5 rows × 150 columns</p>\n",
       "</div>"
      ],
      "text/plain": [
       "   srch_destination_id        d1        d2        d3        d4        d5  \\\n",
       "0                    0 -2.198657 -2.198657 -2.198657 -2.198657 -2.198657   \n",
       "1                    1 -2.181690 -2.181690 -2.181690 -2.082564 -2.181690   \n",
       "2                    2 -2.183490 -2.224164 -2.224164 -2.189562 -2.105819   \n",
       "3                    3 -2.177409 -2.177409 -2.177409 -2.177409 -2.177409   \n",
       "4                    4 -2.189562 -2.187783 -2.194008 -2.171153 -2.152303   \n",
       "\n",
       "         d6        d7        d8        d9  ...      d140      d141      d142  \\\n",
       "0 -1.897627 -2.198657 -2.198657 -1.897627  ... -2.198657 -2.198657 -2.198657   \n",
       "1 -2.165028 -2.181690 -2.181690 -2.031597  ... -2.165028 -2.181690 -2.165028   \n",
       "2 -2.075407 -2.224164 -2.118483 -2.140393  ... -2.224164 -2.224164 -2.196379   \n",
       "3 -2.115485 -2.177409 -2.177409 -2.177409  ... -2.161081 -2.177409 -2.177409   \n",
       "4 -2.056618 -2.194008 -2.194008 -2.145911  ... -2.187356 -2.194008 -2.191779   \n",
       "\n",
       "       d143      d144      d145      d146      d147      d148      d149  \n",
       "0 -2.198657 -2.198657 -2.198657 -2.198657 -2.198657 -2.198657 -2.198657  \n",
       "1 -2.181690 -2.181690 -2.165028 -2.181690 -2.181690 -2.181690 -2.181690  \n",
       "2 -2.224164 -2.192009 -2.224164 -2.224164 -2.224164 -2.224164 -2.057548  \n",
       "3 -2.177409 -2.177409 -2.177409 -2.177409 -2.177409 -2.177409 -2.177409  \n",
       "4 -2.194008 -2.194008 -2.185161 -2.194008 -2.194008 -2.194008 -2.188037  \n",
       "\n",
       "[5 rows x 150 columns]"
      ]
     },
     "execution_count": 15,
     "metadata": {},
     "output_type": "execute_result"
    }
   ],
   "source": [
    "#All the features here are numerical features\n",
    "dest.head()"
   ]
  },
  {
   "cell_type": "code",
   "execution_count": 16,
   "id": "cb9c10ae-3f3e-455b-8bea-9111493ee4cd",
   "metadata": {},
   "outputs": [
    {
     "data": {
      "text/plain": [
       "0"
      ]
     },
     "execution_count": 16,
     "metadata": {},
     "output_type": "execute_result"
    }
   ],
   "source": [
    "#There is no missing data in the destination latent feature files\n",
    "dest.isnull().sum().sum()"
   ]
  },
  {
   "cell_type": "markdown",
   "id": "d25f14ab-40bd-4e32-85af-2bb7439b5004",
   "metadata": {
    "tags": []
   },
   "source": [
    "## Data Preprocessing\n",
    "\n",
    "There are several works we do for preprecessing data:\n",
    "* Date time data: Convert the date_time, srch_ci and srch_co to date time data, then add new columns for months from the date we got from checkin, checkout date. Then, we also add another column for duration of stay = checkout date - checkin date.\n",
    "* Missing data: Fill the missing data of orig_destination_distance (~30% data). We will fill na by the median of group of customer come from the same city and travel to the same country. \n",
    "* Curse of dimension: Reduce the dimension for latent features using PCA.\n",
    "* Categorical data: Create dummy variable for categorical features. For some features (user_location_city, hotel_country, etc) their number of class are huge (>1000), we will just create dummies for the majority class."
   ]
  },
  {
   "cell_type": "code",
   "execution_count": 17,
   "id": "4ac8c46f-85cf-4713-b8f7-85806e1eeace",
   "metadata": {},
   "outputs": [],
   "source": [
    "from sklearn import preprocessing\n",
    "from sklearn.preprocessing import StandardScaler,  MinMaxScaler\n",
    "import warnings\n",
    "warnings.filterwarnings('ignore')"
   ]
  },
  {
   "cell_type": "code",
   "execution_count": 18,
   "id": "7f1e7740-be50-43f9-8cd0-60316e59ca0e",
   "metadata": {},
   "outputs": [],
   "source": [
    "#Working on 1% sample ~ 30k lines \n",
    "df= df.sample(frac=0.01, random_state=99) "
   ]
  },
  {
   "cell_type": "code",
   "execution_count": 19,
   "id": "80d1935a-076e-4cdd-90b2-acba4508e1fd",
   "metadata": {},
   "outputs": [],
   "source": [
    "#Convert date_time data types\n",
    "df['srch_ci'] = pd.to_datetime(df['srch_ci'])\n",
    "df['srch_co'] = pd.to_datetime(df['srch_co'])\n",
    "df['date_time'] = pd.to_datetime(df['date_time'])\n",
    "\n",
    "#Add trip duration\n",
    "df['stay_dur'] = (df['srch_co'] - df['srch_ci']).astype('timedelta64[D]')\n",
    "\n",
    "# For date_time log month\n",
    "df['mon'] = df[\"date_time\"].apply(lambda x: x.month)\n",
    "\n",
    "# For hotel check-in month\n",
    "df['ci_mon'] = df[\"srch_ci\"].apply(lambda x: x.month)\n",
    "\n",
    "# For hotel check-out month\n",
    "df['co_mon'] = df[\"srch_co\"].apply(lambda x: x.month)\n",
    "\n",
    "#Drop all date-time features\n",
    "df= df.drop([\"date_time\",\"srch_ci\",\"srch_co\"], axis=1)"
   ]
  },
  {
   "cell_type": "code",
   "execution_count": 20,
   "id": "57513213-5429-4805-8e7e-167b5d125a4e",
   "metadata": {},
   "outputs": [
    {
     "data": {
      "text/plain": [
       "(30007, 24)"
      ]
     },
     "execution_count": 20,
     "metadata": {},
     "output_type": "execute_result"
    }
   ],
   "source": [
    "df.shape"
   ]
  },
  {
   "cell_type": "code",
   "execution_count": 21,
   "id": "3081169e-4d17-44c1-a408-83460f12da14",
   "metadata": {},
   "outputs": [],
   "source": [
    "#check the missing value\n",
    "#df.isnull().sum()\n",
    "\n",
    "#fill the NA by the median value of group of user with the same 'user_location_city' and 'hotel_country'\n",
    "median=df['orig_destination_distance'].median()\n",
    "df['orig_destination_distance'] = df['orig_destination_distance'].fillna(df.groupby(['user_location_city','hotel_country'])['orig_destination_distance'].transform('median'))\n",
    "\n",
    "#Fill the rest NA by the median value of set\n",
    "df['orig_destination_distance']=df['orig_destination_distance'].fillna(median)"
   ]
  },
  {
   "cell_type": "code",
   "execution_count": 22,
   "id": "6ed32a78-8a07-4cff-a716-5081cdb7c945",
   "metadata": {},
   "outputs": [
    {
     "data": {
      "text/plain": [
       "0"
      ]
     },
     "execution_count": 22,
     "metadata": {},
     "output_type": "execute_result"
    }
   ],
   "source": [
    "df.isnull().sum().sum()"
   ]
  },
  {
   "cell_type": "code",
   "execution_count": 23,
   "id": "4f386d92-d149-4814-b0b1-e4a9df5d5658",
   "metadata": {},
   "outputs": [
    {
     "data": {
      "text/plain": [
       "(62106, 150)"
      ]
     },
     "execution_count": 23,
     "metadata": {},
     "output_type": "execute_result"
    }
   ],
   "source": [
    "#####PCA for the latent features#######\n",
    "dest.shape"
   ]
  },
  {
   "cell_type": "code",
   "execution_count": 24,
   "id": "c093b867-02be-4bb8-81d8-803627a083c3",
   "metadata": {},
   "outputs": [
    {
     "data": {
      "text/plain": [
       "5934"
      ]
     },
     "execution_count": 24,
     "metadata": {},
     "output_type": "execute_result"
    }
   ],
   "source": [
    "df['srch_destination_id'].nunique()"
   ]
  },
  {
   "cell_type": "code",
   "execution_count": 25,
   "id": "402b63fd-6b8f-4f3d-806b-ef060e71fa5a",
   "metadata": {},
   "outputs": [],
   "source": [
    "from sklearn.preprocessing import MinMaxScaler\n",
    "from sklearn.decomposition import PCA\n",
    "\n",
    "#Using srch_destination_id from search feature to map latent features\n",
    "latent= df['srch_destination_id']\n",
    "latent = pd.merge(latent, dest, how='left', on='srch_destination_id')\n",
    "\n",
    "#latent.isnull().sum()\n",
    "#Fill na by mean value then drop search_destination_id\n",
    "latent.fillna(latent.mean(), inplace=True)\n",
    "latent = latent.drop([\"srch_destination_id\"], axis=1)"
   ]
  },
  {
   "cell_type": "code",
   "execution_count": 26,
   "id": "150c6460-9756-4af8-8202-ae85c16254f2",
   "metadata": {},
   "outputs": [],
   "source": [
    "#Scale data\n",
    "latent=MinMaxScaler().fit_transform(latent)"
   ]
  },
  {
   "cell_type": "code",
   "execution_count": 27,
   "id": "b0270892-dcd8-420a-ba4b-cd7286005c81",
   "metadata": {},
   "outputs": [
    {
     "data": {
      "image/png": "[encoded data removed]",
      "text/plain": [
       "<Figure size 432x288 with 1 Axes>"
      ]
     },
     "metadata": {
      "needs_background": "light"
     },
     "output_type": "display_data"
    }
   ],
   "source": [
    "#Run PCA and check the variance on number of components to see how many component should be chose\n",
    "pca=PCA()\n",
    "L_pca=pca.fit_transform(latent)\n",
    "\n",
    "pca.explained_variance_ratio_[::-1].sort()\n",
    "plt.plot(np.cumsum(pca.explained_variance_ratio_))\n",
    "plt.xlabel('Number of components')\n",
    "plt.ylabel('Cumulative explained variance')\n",
    "plt.show()"
   ]
  },
  {
   "cell_type": "code",
   "execution_count": 28,
   "id": "aaf8d115-193b-4704-ad24-4e009692c315",
   "metadata": {},
   "outputs": [],
   "source": [
    "#Chose 40 components since 40 components give > 90% variance.\n",
    "pca40=PCA(n_components=40)\n",
    "L_pca= pca40.fit_transform(latent)"
   ]
  },
  {
   "cell_type": "code",
   "execution_count": 29,
   "id": "44c5b028-1551-43ba-83ac-b78c63f0f942",
   "metadata": {},
   "outputs": [],
   "source": [
    "num_var=['orig_destination_distance','is_mobile', 'is_package','srch_adults_cnt', 'srch_children_cnt', 'srch_rm_cnt','srch_destination_id','stay_dur']\n",
    "cate_l=['hotel_country','hotel_market','site_name','user_location_city','user_location_country','user_location_region']\n",
    "cate_s=['channel','ci_mon','cnt','co_mon','hotel_continent','mon','posa_continent','srch_destination_type_id']\n",
    "y=['hotel_cluster']"
   ]
  },
  {
   "cell_type": "code",
   "execution_count": 30,
   "id": "8905db22-07fe-43a7-8e84-3ca6bf3d1763",
   "metadata": {},
   "outputs": [],
   "source": [
    "#######Categorical features"
   ]
  },
  {
   "cell_type": "code",
   "execution_count": 31,
   "id": "60553122-2e01-4693-87c9-8aaeb564bf7c",
   "metadata": {},
   "outputs": [
    {
     "name": "stdout",
     "output_type": "stream",
     "text": [
      "                     Feature  Number of distinct value\n",
      "0                    channel                        11\n",
      "1                     ci_mon                        12\n",
      "2                        cnt                         6\n",
      "3                     co_mon                        12\n",
      "4            hotel_continent                         7\n",
      "5              hotel_country                       160\n",
      "6               hotel_market                      1636\n",
      "7                        mon                        12\n",
      "8             posa_continent                         5\n",
      "9                  site_name                        42\n",
      "10  srch_destination_type_id                         8\n",
      "11                   user_id                     28551\n",
      "12        user_location_city                      6039\n",
      "13     user_location_country                       170\n",
      "14      user_location_region                       633\n"
     ]
    }
   ],
   "source": [
    "cate_f= df.columns.difference(num_var+y)\n",
    "d=[]\n",
    "for i in cate_f:\n",
    "    d.append([i,len(df[i].unique())])\n",
    "cd = pd.DataFrame(d, columns = [\"Feature\", \"Number of distinct value\"])\n",
    "print(cd)"
   ]
  },
  {
   "cell_type": "code",
   "execution_count": 32,
   "id": "41d44671-f16a-459e-82ad-81a8318784c6",
   "metadata": {},
   "outputs": [],
   "source": [
    "#Assign other to low frequency categories (<95%)\n",
    "def lowFreq(i, df):\n",
    "    freq=df[i].value_counts(normalize =True)\n",
    "    bottom = freq.quantile(q=0.05)\n",
    "    less_freq = freq[freq<=bottom]\n",
    "    df.loc[df[i].isin(less_freq.index.tolist()),[i]] = -1"
   ]
  },
  {
   "cell_type": "code",
   "execution_count": 33,
   "id": "9f6963ae-aba7-48b7-a801-18388b393dfb",
   "metadata": {},
   "outputs": [],
   "source": [
    "for i in cate_f:\n",
    "    lowFreq(i, df)"
   ]
  },
  {
   "cell_type": "code",
   "execution_count": 34,
   "id": "02380533-d972-4df5-8545-1e9059a3843e",
   "metadata": {},
   "outputs": [
    {
     "name": "stdout",
     "output_type": "stream",
     "text": [
      "                     Feature  Number of distinct value\n",
      "0                    channel                        11\n",
      "1                     ci_mon                        12\n",
      "2                        cnt                         6\n",
      "3                     co_mon                        12\n",
      "4            hotel_continent                         7\n",
      "5              hotel_country                       141\n",
      "6               hotel_market                      1353\n",
      "7                        mon                        12\n",
      "8             posa_continent                         5\n",
      "9                  site_name                        38\n",
      "10  srch_destination_type_id                         8\n",
      "11                   user_id                      1339\n",
      "12        user_location_city                      2952\n",
      "13     user_location_country                       133\n",
      "14      user_location_region                       506\n"
     ]
    }
   ],
   "source": [
    "d=[]\n",
    "for i in cate_f:\n",
    "    d.append([i,len(df[i].unique())])\n",
    "cd = pd.DataFrame(d, columns = [\"Feature\", \"Number of distinct value\"])\n",
    "print(cd)"
   ]
  },
  {
   "cell_type": "code",
   "execution_count": 35,
   "id": "2f3312d4-167b-4556-b6ba-7b57b9b2973c",
   "metadata": {},
   "outputs": [],
   "source": [
    "from sklearn.preprocessing import OneHotEncoder\n",
    "from sklearn.decomposition import PCA"
   ]
  },
  {
   "cell_type": "code",
   "execution_count": 36,
   "id": "3a880e34-d885-45bb-9e1f-6e8153121722",
   "metadata": {},
   "outputs": [],
   "source": [
    "###Run PCA for group of large unique value groups\n",
    "#Group hotel_country and hotel_market\n",
    "X=df[['hotel_country','hotel_market']]\n",
    "enc = OneHotEncoder()\n",
    "trans = enc.fit_transform(X)\n",
    "ohe_df = pd.DataFrame(trans.toarray())"
   ]
  },
  {
   "cell_type": "code",
   "execution_count": 37,
   "id": "e0d98696-f6d1-452a-9642-e1cc5a6e8f7b",
   "metadata": {},
   "outputs": [],
   "source": [
    "pca=PCA(n_components=0.8)\n",
    "m_pca=pca.fit_transform(ohe_df)"
   ]
  },
  {
   "cell_type": "code",
   "execution_count": 38,
   "id": "212c4901-433c-41ea-ab8c-9c2091c9c580",
   "metadata": {},
   "outputs": [
    {
     "data": {
      "text/plain": [
       "(30007, 185)"
      ]
     },
     "execution_count": 38,
     "metadata": {},
     "output_type": "execute_result"
    }
   ],
   "source": [
    "m_pca.shape"
   ]
  },
  {
   "cell_type": "code",
   "execution_count": 39,
   "id": "696c6bf9-83e7-40ef-b40b-438409f275b9",
   "metadata": {},
   "outputs": [],
   "source": [
    "#Site name\n",
    "X=df[['site_name']]\n",
    "trans = enc.fit_transform(X)\n",
    "ohe_df = pd.DataFrame(trans.toarray())\n",
    "pca=PCA(n_components=0.8)\n",
    "m_pca_site=pca.fit_transform(ohe_df)"
   ]
  },
  {
   "cell_type": "code",
   "execution_count": 40,
   "id": "66b52972-b37c-476b-ba6c-0812afa22ec3",
   "metadata": {},
   "outputs": [],
   "source": [
    "#Group user_location_city, user_location_country and user_location_region\n",
    "X=df[['user_location_city','user_location_country','user_location_region']]\n",
    "trans = enc.fit_transform(X)\n",
    "ohe_df = pd.DataFrame(trans.toarray())"
   ]
  },
  {
   "cell_type": "code",
   "execution_count": 41,
   "id": "9a198ddf-0e26-49f8-acfe-5b863162c43e",
   "metadata": {},
   "outputs": [],
   "source": [
    "pca=PCA(n_components=0.8)\n",
    "m_pca_user=pca.fit_transform(ohe_df)"
   ]
  },
  {
   "cell_type": "code",
   "execution_count": 42,
   "id": "b4b82b70-310a-4acd-8bd8-9a52277305ba",
   "metadata": {},
   "outputs": [],
   "source": [
    "#######Join all data to one dataFrame"
   ]
  },
  {
   "cell_type": "code",
   "execution_count": 43,
   "id": "76e04f6b-d04a-4a68-a9a9-6070e8e18818",
   "metadata": {},
   "outputs": [],
   "source": [
    "X=df[num_var]"
   ]
  },
  {
   "cell_type": "code",
   "execution_count": 44,
   "id": "1a8ccd87-5f87-4a6c-968d-be97721fcf55",
   "metadata": {},
   "outputs": [],
   "source": [
    "#Join pca_latent feature to df\n",
    "col=['l'+str(i) for i in range(L_pca.shape[1])]\n",
    "lat=pd.DataFrame(L_pca,index=df.index, columns=col)"
   ]
  },
  {
   "cell_type": "code",
   "execution_count": 45,
   "id": "47010e95-56b3-44b7-92a2-5c52a20c501a",
   "metadata": {},
   "outputs": [],
   "source": [
    "X=X.join(lat)"
   ]
  },
  {
   "cell_type": "code",
   "execution_count": 46,
   "id": "79c890d5-af35-4e8b-a1c4-f43e11d63e29",
   "metadata": {},
   "outputs": [],
   "source": [
    "#Join pca_hotel_country and hotel_market feature to df\n",
    "col=['m'+str(i) for i in range(m_pca.shape[1])]\n",
    "market=pd.DataFrame(m_pca,index=df.index,columns=col)"
   ]
  },
  {
   "cell_type": "code",
   "execution_count": 47,
   "id": "8dea4d67-3f41-401d-9083-c32173bf9f0c",
   "metadata": {},
   "outputs": [],
   "source": [
    "X=X.join(market)"
   ]
  },
  {
   "cell_type": "code",
   "execution_count": 48,
   "id": "0a8325b5-94cf-4597-ad6c-8f1451bd8e81",
   "metadata": {},
   "outputs": [],
   "source": [
    "#Join site name feature to df\n",
    "col=['s'+str(i) for i in range(m_pca_site.shape[1])]\n",
    "site=pd.DataFrame(m_pca_site,index=df.index,columns=col)"
   ]
  },
  {
   "cell_type": "code",
   "execution_count": 49,
   "id": "bb91a209-efdd-4b3c-95c0-c6cf683ad6f4",
   "metadata": {},
   "outputs": [],
   "source": [
    "X=X.join(site)"
   ]
  },
  {
   "cell_type": "code",
   "execution_count": 50,
   "id": "54227ca3-07f6-41fd-a68f-b417ddaeae15",
   "metadata": {},
   "outputs": [],
   "source": [
    "#Join user location feature to df\n",
    "col=['ul'+str(i) for i in range(m_pca_user.shape[1])]\n",
    "user=pd.DataFrame(m_pca_user,index=df.index,columns=col)"
   ]
  },
  {
   "cell_type": "code",
   "execution_count": 51,
   "id": "ebde171d-1022-46ba-9f43-9157c1cd37c0",
   "metadata": {},
   "outputs": [],
   "source": [
    "X=X.join(user)"
   ]
  },
  {
   "cell_type": "code",
   "execution_count": 52,
   "id": "8d1df657-bca8-4b93-8035-a48484059833",
   "metadata": {},
   "outputs": [],
   "source": [
    "#Create dummies for small categorical features\n",
    "dum=df[cate_s]\n",
    "dum= pd.get_dummies(data= dum, columns= cate_s, drop_first=True)"
   ]
  },
  {
   "cell_type": "code",
   "execution_count": 53,
   "id": "84e3d50b-8bff-40a4-93f9-1659184cf54b",
   "metadata": {},
   "outputs": [],
   "source": [
    "X=X.join(dum)"
   ]
  },
  {
   "cell_type": "code",
   "execution_count": 54,
   "id": "12a577f8-78e0-41c3-90cc-93751d6d5968",
   "metadata": {},
   "outputs": [],
   "source": [
    "###########Scale data\n",
    "scaler = MinMaxScaler()\n",
    "X= scaler.fit_transform(X)"
   ]
  },
  {
   "cell_type": "code",
   "execution_count": 55,
   "id": "4066e776-51b0-4622-8535-107dd9667806",
   "metadata": {},
   "outputs": [
    {
     "data": {
      "text/plain": [
       "(30007, 637)"
      ]
     },
     "execution_count": 55,
     "metadata": {},
     "output_type": "execute_result"
    }
   ],
   "source": [
    "#Final data for feature set\n",
    "X.shape"
   ]
  },
  {
   "cell_type": "code",
   "execution_count": 56,
   "id": "8c3e60d7-0340-44c2-9e65-7dc6ccc29060",
   "metadata": {},
   "outputs": [],
   "source": [
    "#Target y- hotel cluster\n",
    "y=df[y]"
   ]
  },
  {
   "cell_type": "markdown",
   "id": "a435f5a6-3032-45bc-94be-ae4c412f21a5",
   "metadata": {},
   "source": [
    "## Run machine learning techniques"
   ]
  },
  {
   "cell_type": "code",
   "execution_count": 57,
   "id": "cef9522d-2992-4881-8466-30b8ca7026b8",
   "metadata": {},
   "outputs": [],
   "source": [
    "from sklearn.model_selection import cross_val_score\n",
    "from sklearn.pipeline import make_pipeline\n",
    "from sklearn import svm\n",
    "from sklearn.model_selection import train_test_split\n",
    "from sklearn.metrics import classification_report, confusion_matrix, accuracy_score\n",
    "import sklearn.naive_bayes as nb\n",
    "from sklearn.ensemble import RandomForestClassifier\n",
    "from sklearn.neighbors import KNeighborsClassifier\n",
    "\n",
    "from sklearn.svm import SVC"
   ]
  },
  {
   "cell_type": "code",
   "execution_count": 58,
   "id": "344fd3b5-5528-45e5-b121-072a40cacbed",
   "metadata": {},
   "outputs": [],
   "source": [
    "#####Split train, test set\n",
    "X_train, X_test, y_train, y_test = train_test_split(X,y,test_size=0.2,random_state=0)"
   ]
  },
  {
   "cell_type": "code",
   "execution_count": 59,
   "id": "65143ea7-3ba6-4014-b23e-ef15afb89f93",
   "metadata": {},
   "outputs": [],
   "source": [
    "#### Naive Bayes"
   ]
  },
  {
   "cell_type": "code",
   "execution_count": 60,
   "id": "0767644e-f764-4bb3-8e81-0a0e1deafb34",
   "metadata": {},
   "outputs": [
    {
     "data": {
      "image/png": "[encoded data removed]",
      "text/plain": [
       "<Figure size 432x288 with 2 Axes>"
      ]
     },
     "metadata": {
      "needs_background": "light"
     },
     "output_type": "display_data"
    },
    {
     "name": "stdout",
     "output_type": "stream",
     "text": [
      "Categorical NB accuracy: predict 1 cluster is 0.0693, predict top 5 clusters is  0.125.\n"
     ]
    }
   ],
   "source": [
    "# Categorical NB\n",
    "cnb = nb.CategoricalNB(min_categories=2)\n",
    "model = cnb.fit(X_train, y_train)\n",
    "y_pred = model.predict(X_test)\n",
    "y_pred_prob = model.predict_proba(X_test) \n",
    "C = confusion_matrix(y_test, y_pred)\n",
    "accuracy = accuracy_score(y_test, y_pred)\n",
    "sns.heatmap(C, cmap='Spectral')\n",
    "plt.title(f\"Confusion matrix with accuracy={accuracy: 3.3} and error rate ={1-accuracy:3.3}\")\n",
    "plt.show()\n",
    "\n",
    "#Predict top 5 clusters\n",
    "pred_prob= model.predict_proba(X_test)\n",
    "pre5=[]\n",
    "for i in range(pred_prob.shape[0]):\n",
    "    arr= pred_prob[i]\n",
    "    pre5.append(arr.argsort()[-5:][::-1])\n",
    "##Accuracy if we just predict 5 values\n",
    "s=0\n",
    "for i in range(len(y_test)):\n",
    "    a=y_test.iloc[i]['hotel_cluster']\n",
    "    x=list(pre5[i])\n",
    "    if a in x:\n",
    "        s+=1/(1+x.index(a))\n",
    "accuracy2= s/len(y_test)\n",
    "print(f'Categorical NB accuracy: predict 1 cluster is {accuracy:3.3}, predict top 5 clusters is {accuracy2: 3.3}.')"
   ]
  },
  {
   "cell_type": "code",
   "execution_count": 61,
   "id": "17a6fdbb-5b6b-4842-9fed-46fb661608d9",
   "metadata": {},
   "outputs": [
    {
     "data": {
      "image/png": "[encoded data removed]",
      "text/plain": [
       "<Figure size 432x288 with 2 Axes>"
      ]
     },
     "metadata": {
      "needs_background": "light"
     },
     "output_type": "display_data"
    },
    {
     "name": "stdout",
     "output_type": "stream",
     "text": [
      "Multinomial NB model accuracy: predict 1 cluster is 0.0746, predict top 5 clusters is  0.136.\n"
     ]
    }
   ],
   "source": [
    "# Multinomial NB\n",
    "mnb = nb.MultinomialNB()\n",
    "model = mnb.fit(X_train, y_train)\n",
    "y_pred = model.predict(X_test)\n",
    "y_pred_prob = model.predict_proba(X_test) \n",
    "C = confusion_matrix(y_test, y_pred)\n",
    "accuracy = accuracy_score(y_test, y_pred)\n",
    "sns.heatmap(C, cmap='Spectral')\n",
    "plt.title(f\"Confusion matrix with accuracy={accuracy: 3.3} and error rate ={1-accuracy:3.3}\")\n",
    "plt.show()\n",
    "\n",
    "#Predict top 5 clusters\n",
    "pred_prob= model.predict_proba(X_test)\n",
    "pre5=[]\n",
    "for i in range(pred_prob.shape[0]):\n",
    "    arr= pred_prob[i]\n",
    "    pre5.append(arr.argsort()[-5:][::-1])\n",
    "##Accuracy if we just predict 5 values\n",
    "s=0\n",
    "for i in range(len(y_test)):\n",
    "    a=y_test.iloc[i]['hotel_cluster']\n",
    "    x=list(pre5[i])\n",
    "    if a in x:\n",
    "        s+=1/(1+x.index(a))\n",
    "accuracy2= s/len(y_test)\n",
    "print(f'Multinomial NB model accuracy: predict 1 cluster is {accuracy:3.3}, predict top 5 clusters is {accuracy2: 3.3}.')"
   ]
  },
  {
   "cell_type": "code",
   "execution_count": 62,
   "id": "ced61d6d-0fa0-4f97-8d3b-2045ace02420",
   "metadata": {},
   "outputs": [],
   "source": [
    "####### KNN"
   ]
  },
  {
   "cell_type": "code",
   "execution_count": 63,
   "id": "52dbba42-aa12-4041-aa9d-eb5211f37e28",
   "metadata": {},
   "outputs": [],
   "source": [
    "#Euclidean distance \n",
    "neigbor= [i for i in range(5,205,10)]\n",
    "rfE=[]\n",
    "for i in neigbor:\n",
    "    knnM= KNeighborsClassifier(n_neighbors=i)\n",
    "    x= np.mean(cross_val_score(knnM, X_train, y_train, cv=5, scoring='accuracy'))\n",
    "    rfE.append(x)"
   ]
  },
  {
   "cell_type": "code",
   "execution_count": 64,
   "id": "1a64c18a-7224-4a70-b414-e174d2344b9b",
   "metadata": {},
   "outputs": [],
   "source": [
    "#Mahattan distance\n",
    "neigbor= [i for i in range(5,205,10)]\n",
    "rfM=[]\n",
    "for i in neigbor:\n",
    "    knnM= KNeighborsClassifier(n_neighbors=i,p=1,n_jobs=-1)\n",
    "    x= np.mean(cross_val_score(knnM, X_train, y_train, cv=5, scoring='accuracy'))\n",
    "    rfM.append(x)"
   ]
  },
  {
   "cell_type": "code",
   "execution_count": 65,
   "id": "960d667c-4a8e-41dc-a8ab-b87edcb9fcb2",
   "metadata": {},
   "outputs": [
    {
     "data": {
      "image/png": "[encoded data removed]",
      "text/plain": [
       "<Figure size 432x288 with 1 Axes>"
      ]
     },
     "metadata": {
      "needs_background": "light"
     },
     "output_type": "display_data"
    }
   ],
   "source": [
    "plt.plot(range(5,205,10), rfM, label = 'Mahattan distance')\n",
    "plt.plot(range(5,205,10), rfE, label = 'Euclidean distance')\n",
    "plt.xlabel('k')\n",
    "plt.ylabel('Accuracy')\n",
    "plt.title('KNN cross validation ')\n",
    "plt.legend()\n",
    "plt.show()"
   ]
  },
  {
   "cell_type": "code",
   "execution_count": 66,
   "id": "56eee744-2050-470d-91ee-d580fb3eb934",
   "metadata": {},
   "outputs": [
    {
     "name": "stdout",
     "output_type": "stream",
     "text": [
      "Best number of k for Mahattan distance is 135 with the CV accuracy is 0.109\n",
      "Best number of k for Euclidean distance is 195 with the CV accuracy is 0.072\n"
     ]
    }
   ],
   "source": [
    "print(f'Best number of k for Mahattan distance is {neigbor[rfM.index(max(rfM))]} with the CV accuracy is {max(rfM):3.3}')\n",
    "print(f'Best number of k for Euclidean distance is {neigbor[rfE.index(max(rfE))]} with the CV accuracy is {max(rfE):3.3}')"
   ]
  },
  {
   "cell_type": "code",
   "execution_count": 67,
   "id": "56cac3ea-467a-4cb3-99f9-8ff48fd3320b",
   "metadata": {},
   "outputs": [
    {
     "name": "stdout",
     "output_type": "stream",
     "text": [
      "Euclidean KNN model accuracy: predict 1 cluster is 0.0758, predict top 5 clusters is  0.134.\n"
     ]
    }
   ],
   "source": [
    "k=neigbor[rfE.index(max(rfE))]\n",
    "#Estimate model with best k for Euclidean distance\n",
    "kM= KNeighborsClassifier(n_neighbors=k)\n",
    "kM.fit(X_train, y_train)\n",
    "y_pred= kM.predict(X_test)\n",
    "C= confusion_matrix(y_test, y_pred)\n",
    "\n",
    "#Accuracy if we just predict 1 value\n",
    "acc1= sum(np.diag(C))/C.sum()\n",
    "\n",
    "#Predict top 5 clusters\n",
    "pred_prob= kM.predict_proba(X_test)\n",
    "pre5=[]\n",
    "for i in range(pred_prob.shape[0]):\n",
    "    arr= pred_prob[i]\n",
    "    pre5.append(arr.argsort()[-5:][::-1])\n",
    "##Accuracy if we just predict 5 values\n",
    "s=0\n",
    "for i in range(len(y_test)):\n",
    "    a=y_test.iloc[i]['hotel_cluster']\n",
    "    x=list(pre5[i])\n",
    "    if a in x:\n",
    "        s+=1/(1+x.index(a))\n",
    "acc2= s/len(y_test)\n",
    "print(f'Euclidean KNN model accuracy: predict 1 cluster is {acc1:3.3}, predict top 5 clusters is {acc2: 3.3}.')"
   ]
  },
  {
   "cell_type": "code",
   "execution_count": 68,
   "id": "ed4e85bd-03cb-4a6f-98ab-1edf60ced3d5",
   "metadata": {},
   "outputs": [
    {
     "name": "stdout",
     "output_type": "stream",
     "text": [
      "Mahattan KNN model accuracy: predict 1 cluster is 0.112, predict top 5 clusters is  0.188.\n"
     ]
    }
   ],
   "source": [
    "k=neigbor[rfM.index(max(rfM))]\n",
    "#Estimate model with best k for Euclidean distance\n",
    "kM= KNeighborsClassifier(n_neighbors=k, p=1, n_jobs=-1)\n",
    "kM.fit(X_train, y_train)\n",
    "y_pred= kM.predict(X_test)\n",
    "C= confusion_matrix(y_test, y_pred)\n",
    "\n",
    "#Accuracy if we just predict 1 value\n",
    "acc1= sum(np.diag(C))/C.sum()\n",
    "\n",
    "#Predict top 5 clusters\n",
    "pred_prob= kM.predict_proba(X_test)\n",
    "pre5=[]\n",
    "for i in range(pred_prob.shape[0]):\n",
    "    arr= pred_prob[i]\n",
    "    pre5.append(arr.argsort()[-5:][::-1])\n",
    "##Accuracy if we just predict 5 values\n",
    "s=0\n",
    "for i in range(len(y_test)):\n",
    "    a=y_test.iloc[i]['hotel_cluster']\n",
    "    x=list(pre5[i])\n",
    "    if a in x:\n",
    "        s+=1/(1+x.index(a))\n",
    "acc2= s/len(y_test)\n",
    "print(f'Mahattan KNN model accuracy: predict 1 cluster is {acc1:3.3}, predict top 5 clusters is {acc2: 3.3}.')"
   ]
  },
  {
   "cell_type": "code",
   "execution_count": 69,
   "id": "029d0662-ee53-4755-8529-aee9040866c1",
   "metadata": {},
   "outputs": [],
   "source": [
    "########Random Forest"
   ]
  },
  {
   "cell_type": "code",
   "execution_count": 70,
   "id": "0d239b40-61f0-4c12-a35f-99b769b5f016",
   "metadata": {},
   "outputs": [],
   "source": [
    "def evaluate(model, X_test, y_test):\n",
    "    y_pred = model.predict(X_test)\n",
    "    accuracy = accuracy_score(y_test, y_pred)\n",
    "    \n",
    "    print('Model Performance')\n",
    "    print(f\"accuracy={accuracy: 3.3} and error rate ={1-accuracy:3.3}, oob score={model.oob_score_:3.3}\")\n",
    "    #Predict top 5 clusters\n",
    "    pred_prob= model.predict_proba(X_test)\n",
    "    pre5=[]\n",
    "    for i in range(pred_prob.shape[0]):\n",
    "        arr= pred_prob[i]\n",
    "        pre5.append(arr.argsort()[-5:][::-1])\n",
    "    ##Accuracy if we just predict 5 values\n",
    "    s=0\n",
    "    for i in range(len(y_test)):\n",
    "        a=y_test.iloc[i]['hotel_cluster']\n",
    "        x=list(pre5[i])\n",
    "        if a in x:\n",
    "            s+=1/(1+x.index(a))\n",
    "    accuracy2= s/len(y_test)\n",
    "    print(f'model accuracy: predict 1 cluster is {accuracy:3.3}, predict top 5 clusters is {accuracy2: 3.3}.')\n",
    "    \n",
    "    return accuracy2\n"
   ]
  },
  {
   "cell_type": "code",
   "execution_count": 71,
   "id": "c065610b-c966-4c92-a4ea-d8333bc59192",
   "metadata": {},
   "outputs": [
    {
     "name": "stdout",
     "output_type": "stream",
     "text": [
      "Model Performance\n",
      "accuracy= 0.1 and error rate =0.9, oob score=0.102\n",
      "model accuracy: predict 1 cluster is 0.1, predict top 5 clusters is  0.179.\n"
     ]
    }
   ],
   "source": [
    "#Base Random Forest Model\n",
    "rf_base = RandomForestClassifier(n_estimators=100, min_samples_leaf=500, oob_score=True, n_jobs=-1)\n",
    "rfmodel = rf_base.fit(X_train,y_train)\n",
    "#y_pred = rfmodel.predict(X_test)\n",
    "pred_prob = rfmodel.predict_proba(X_test)\n",
    "\n",
    "base_accuracy= evaluate(rfmodel,X_test,y_test)"
   ]
  },
  {
   "cell_type": "code",
   "execution_count": 72,
   "id": "47d157b5",
   "metadata": {},
   "outputs": [],
   "source": [
    "#Hyper parameter tuning\n",
    "from sklearn.model_selection import RandomizedSearchCV\n",
    "# Number of trees in random forest\n",
    "n_estimators = [int(x) for x in np.linspace(start = 200, stop = 2000, num = 10)]\n",
    "# Minimum number of samples required at each leaf node\n",
    "min_samples_leaf = [int(x) for x in np.linspace(start = 30, stop = 500, num = 10)]\n",
    "# Method of selecting samples for training each tree\n",
    "bootstrap = [True, False]\n",
    "#oob score\n",
    "oob_score =True\n",
    "# Create the random grid\n",
    "random_grid = {'n_estimators': n_estimators,\n",
    "               'min_samples_leaf': min_samples_leaf,\n",
    "               'bootstrap': bootstrap,\n",
    "               }\n"
   ]
  },
  {
   "cell_type": "code",
   "execution_count": 73,
   "id": "9afbf036",
   "metadata": {},
   "outputs": [
    {
     "name": "stdout",
     "output_type": "stream",
     "text": [
      "Fitting 3 folds for each of 10 candidates, totalling 30 fits\n"
     ]
    },
    {
     "data": {
      "text/plain": [
       "RandomizedSearchCV(cv=3, estimator=RandomForestClassifier(oob_score=True),\n",
       "                   n_jobs=-1,\n",
       "                   param_distributions={'bootstrap': [True, False],\n",
       "                                        'min_samples_leaf': [30, 82, 134, 186,\n",
       "                                                             238, 291, 343, 395,\n",
       "                                                             447, 500],\n",
       "                                        'n_estimators': [200, 400, 600, 800,\n",
       "                                                         1000, 1200, 1400, 1600,\n",
       "                                                         1800, 2000]},\n",
       "                   random_state=10, scoring='accuracy', verbose=2)"
      ]
     },
     "execution_count": 73,
     "metadata": {},
     "output_type": "execute_result"
    }
   ],
   "source": [
    "rf = RandomForestClassifier(oob_score=True)\n",
    "rf_random = RandomizedSearchCV(estimator = rf, param_distributions = random_grid, cv = 3, verbose=2, random_state=10, n_jobs = -1, scoring='accuracy')\n",
    "rf_random.fit(X_train, y_train)\n"
   ]
  },
  {
   "cell_type": "code",
   "execution_count": 74,
   "id": "d30452b0",
   "metadata": {},
   "outputs": [
    {
     "name": "stdout",
     "output_type": "stream",
     "text": [
      "best params: {'n_estimators': 600, 'min_samples_leaf': 30, 'bootstrap': True}, best score: 0.126\n",
      "Model Performance\n",
      "accuracy= 0.129 and error rate =0.871, oob score=0.132\n",
      "model accuracy: predict 1 cluster is 0.129, predict top 5 clusters is  0.225.\n",
      "Improvement of 25.66%.\n"
     ]
    }
   ],
   "source": [
    "print(f\"best params: {rf_random.best_params_}, best score: {rf_random.best_score_:3.3}\")\n",
    "best_random = rf_random.best_estimator_\n",
    "random_accuracy = evaluate(best_random, X_test, y_test)\n",
    "print('Improvement of {:0.2f}%.'.format( 100 * (random_accuracy - base_accuracy) / base_accuracy))"
   ]
  },
  {
   "cell_type": "code",
   "execution_count": 75,
   "id": "18d7dd17-d880-462f-bbf2-22b8225a79c8",
   "metadata": {},
   "outputs": [],
   "source": [
    "####Suport Vector Machine "
   ]
  },
  {
   "cell_type": "code",
   "execution_count": 76,
   "id": "0ce58fd7-1b7f-42eb-9ce7-d2fdb519b1b2",
   "metadata": {},
   "outputs": [
    {
     "name": "stdout",
     "output_type": "stream",
     "text": [
      "SVM model accuracy: predict 1 cluster is 0.118, predict top 5 clusters is  0.205.\n"
     ]
    }
   ],
   "source": [
    "# kernel{‘linear’, ‘poly’, ‘rbf’, ‘sigmoid’, ‘precomputed’},\n",
    "svm_model=SVC(kernel=\"rbf\", decision_function_shape='ovo', probability=True)\n",
    "#svm_model=SVC(kernel=\"linear\",probability=True)\n",
    "#svm_model=SVC(kernel=\"rbf\",probability=True)\n",
    "\n",
    "svm_model.fit(X_train, y_train)\n",
    "\n",
    "y_pred= svm_model.predict(X_test)\n",
    "C= confusion_matrix(y_test, y_pred)\n",
    "\n",
    "#Accuracy if we just predict 1 value\n",
    "acc1= sum(np.diag(C))/C.sum()\n",
    "\n",
    "#Predict top 5 clusters\n",
    "pred_prob= svm_model.predict_proba(X_test)\n",
    "pre5=[]\n",
    "for i in range(pred_prob.shape[0]):\n",
    "    arr= pred_prob[i]\n",
    "    pre5.append(arr.argsort()[-5:][::-1])\n",
    "##Accuracy if we just predict 5 values\n",
    "s=0\n",
    "for i in range(len(y_test)):\n",
    "    a=y_test.iloc[i]['hotel_cluster']\n",
    "    x=list(pre5[i])\n",
    "    if a in x:\n",
    "        s+=1/(1+x.index(a))\n",
    "acc2= s/len(y_test)\n",
    "print(f'SVM model accuracy: predict 1 cluster is {acc1:3.3}, predict top 5 clusters is {acc2: 3.3}.')\n",
    "\n"
   ]
  },
  {
   "cell_type": "code",
   "execution_count": null,
   "id": "5009b60f-77ac-4b04-ace9-9528f37b1151",
   "metadata": {},
   "outputs": [],
   "source": []
  },
  {
   "cell_type": "markdown",
   "id": "d75852c3-a9fa-40a8-a2bd-0e2f09f0cc06",
   "metadata": {},
   "source": [
    "## Another Approach for Categorical with high cadinality of distinct value:\n",
    "\n",
    "1. Use PCA with lower number of components to keep (i.e 50% variant instead of 80%). \n",
    "2. Encode number of frequence of cluster to be chose in each group of user_location, hotel_market, search_id that is suggested by Data Leak.  "
   ]
  },
  {
   "cell_type": "code",
   "execution_count": 77,
   "id": "32ee62b7-efab-46aa-8181-061e4942dd21",
   "metadata": {},
   "outputs": [],
   "source": [
    "#######Run PCA for lower variant = 0.5\n",
    "#Group hotel_country and hotel_market\n",
    "X=df[['hotel_country','hotel_market']]\n",
    "enc = OneHotEncoder()\n",
    "trans = enc.fit_transform(X)\n",
    "ohe_df = pd.DataFrame(trans.toarray())"
   ]
  },
  {
   "cell_type": "code",
   "execution_count": 78,
   "id": "f2bef11d-41e9-45d2-be6b-813effa30936",
   "metadata": {},
   "outputs": [],
   "source": [
    "pca=PCA(n_components=0.5)\n",
    "m_pca=pca.fit_transform(ohe_df)"
   ]
  },
  {
   "cell_type": "code",
   "execution_count": 79,
   "id": "bb09b594-89e3-495c-8ceb-874d91a1f557",
   "metadata": {},
   "outputs": [
    {
     "data": {
      "text/plain": [
       "(30007, 30)"
      ]
     },
     "execution_count": 79,
     "metadata": {},
     "output_type": "execute_result"
    }
   ],
   "source": [
    "m_pca.shape"
   ]
  },
  {
   "cell_type": "code",
   "execution_count": 80,
   "id": "a4022c0e-a933-40b8-bc7a-3b6e54606981",
   "metadata": {},
   "outputs": [],
   "source": [
    "#Site name\n",
    "X=df[['site_name']]\n",
    "trans = enc.fit_transform(X)\n",
    "ohe_df = pd.DataFrame(trans.toarray())\n",
    "pca=PCA(n_components=0.5)\n",
    "m_pca_site=pca.fit_transform(ohe_df)"
   ]
  },
  {
   "cell_type": "code",
   "execution_count": 81,
   "id": "24bd36fe-18ea-459a-9e2c-a6ae2b262d24",
   "metadata": {},
   "outputs": [],
   "source": [
    "#Group user_location_city, user_location_country and user_location_region\n",
    "X=df[['user_location_city','user_location_country','user_location_region']]\n",
    "trans = enc.fit_transform(X)\n",
    "ohe_df = pd.DataFrame(trans.toarray())"
   ]
  },
  {
   "cell_type": "code",
   "execution_count": 82,
   "id": "d7235476-78ff-4c92-99af-1dd4e9c913f2",
   "metadata": {},
   "outputs": [],
   "source": [
    "pca=PCA(n_components=0.5)\n",
    "m_pca_user=pca.fit_transform(ohe_df)"
   ]
  },
  {
   "cell_type": "code",
   "execution_count": 83,
   "id": "3b5d39ff-0bfa-4552-aed0-9c5b956f32dc",
   "metadata": {},
   "outputs": [],
   "source": [
    "#PCA for small categorical features\n",
    "X=df[cate_s]\n",
    "trans = enc.fit_transform(X)\n",
    "ohe_df = pd.DataFrame(trans.toarray())"
   ]
  },
  {
   "cell_type": "code",
   "execution_count": 84,
   "id": "517bb7b5-e6bc-480b-bb66-ea2dcfa2a05a",
   "metadata": {},
   "outputs": [],
   "source": [
    "pca=PCA(n_components=0.5)\n",
    "dum=pca.fit_transform(ohe_df)"
   ]
  },
  {
   "cell_type": "code",
   "execution_count": 85,
   "id": "2c3eadd2-1329-4723-b769-e0583ef7634d",
   "metadata": {},
   "outputs": [],
   "source": [
    "#######Join all data to one dataFrame"
   ]
  },
  {
   "cell_type": "code",
   "execution_count": 86,
   "id": "6f8953e1-1825-4a5f-87c2-f0ecdc15b38e",
   "metadata": {},
   "outputs": [],
   "source": [
    "X=df[num_var]"
   ]
  },
  {
   "cell_type": "code",
   "execution_count": 87,
   "id": "b7b489ee-223f-436e-8401-33006acecbd6",
   "metadata": {},
   "outputs": [],
   "source": [
    "#Join pca_latent feature to df\n",
    "col=['l'+str(i) for i in range(L_pca.shape[1])]\n",
    "lat=pd.DataFrame(L_pca,index=df.index, columns=col)"
   ]
  },
  {
   "cell_type": "code",
   "execution_count": 88,
   "id": "994be0fa-fdb1-460f-983e-c81b860ed8a2",
   "metadata": {},
   "outputs": [],
   "source": [
    "X=X.join(lat)"
   ]
  },
  {
   "cell_type": "code",
   "execution_count": 89,
   "id": "63306370-fe8d-4b1f-b8ad-752fa50a9c17",
   "metadata": {},
   "outputs": [],
   "source": [
    "#Join pca_hotel_country and hotel_market feature to df\n",
    "col=['m'+str(i) for i in range(m_pca.shape[1])]\n",
    "market=pd.DataFrame(m_pca,index=df.index,columns=col)"
   ]
  },
  {
   "cell_type": "code",
   "execution_count": 90,
   "id": "3adfae36-08c6-46f9-a124-37c7e44f1d02",
   "metadata": {},
   "outputs": [],
   "source": [
    "X=X.join(market)"
   ]
  },
  {
   "cell_type": "code",
   "execution_count": 91,
   "id": "6392372d-65e4-44dd-8aeb-4a9b74a5a228",
   "metadata": {},
   "outputs": [],
   "source": [
    "#Join site name feature to df\n",
    "col=['s'+str(i) for i in range(m_pca_site.shape[1])]\n",
    "site=pd.DataFrame(m_pca_site,index=df.index,columns=col)"
   ]
  },
  {
   "cell_type": "code",
   "execution_count": 92,
   "id": "8ef216f2-42d4-460a-b2f8-f07fa8b3167c",
   "metadata": {},
   "outputs": [],
   "source": [
    "X=X.join(site)"
   ]
  },
  {
   "cell_type": "code",
   "execution_count": 93,
   "id": "0ef212d5-0c60-4bef-a1e0-de6c6bab5650",
   "metadata": {},
   "outputs": [],
   "source": [
    "#Join user location feature to df\n",
    "col=['ul'+str(i) for i in range(m_pca_user.shape[1])]\n",
    "user=pd.DataFrame(m_pca_user,index=df.index,columns=col)"
   ]
  },
  {
   "cell_type": "code",
   "execution_count": 94,
   "id": "a1c4aa6e-5c0a-4a0c-b921-e0c7237b5481",
   "metadata": {},
   "outputs": [],
   "source": [
    "X=X.join(user)"
   ]
  },
  {
   "cell_type": "code",
   "execution_count": 95,
   "id": "01c1fcfd-009d-47b9-9848-13992da0b86e",
   "metadata": {},
   "outputs": [],
   "source": [
    "#Join other categorical variables\n",
    "col=['d'+str(i) for i in range(dum.shape[1])]\n",
    "dum=pd.DataFrame(dum,index=df.index,columns=col)"
   ]
  },
  {
   "cell_type": "code",
   "execution_count": 96,
   "id": "b538e90b-9d2d-452a-beac-f778b5377709",
   "metadata": {},
   "outputs": [],
   "source": [
    "X=X.join(dum)"
   ]
  },
  {
   "cell_type": "code",
   "execution_count": 97,
   "id": "94bb3fa5-736f-490f-80fd-12f8098cdab0",
   "metadata": {},
   "outputs": [
    {
     "data": {
      "text/plain": [
       "(30007, 124)"
      ]
     },
     "execution_count": 97,
     "metadata": {},
     "output_type": "execute_result"
    }
   ],
   "source": [
    "X.shape"
   ]
  },
  {
   "cell_type": "code",
   "execution_count": 98,
   "id": "7838ef7b-e44b-47ad-b908-462335e5f0c0",
   "metadata": {},
   "outputs": [],
   "source": [
    "#####Create features for cluster frequency by ['user_location_city','srch_destination_id','hotel_country','hotel_market','hotel_cluster']"
   ]
  },
  {
   "cell_type": "code",
   "execution_count": 99,
   "id": "b80cfa5b-fbad-41a0-987c-6b82b66528ba",
   "metadata": {},
   "outputs": [],
   "source": [
    "X=X.join(df[['hotel_country','hotel_market']])"
   ]
  },
  {
   "cell_type": "code",
   "execution_count": 100,
   "id": "0c6e1eb0-9d89-4bbe-99e5-8cd5129e090d",
   "metadata": {},
   "outputs": [],
   "source": [
    "X_train, X_test, y_train, y_test = train_test_split(X,y,test_size=0.2,random_state=0)"
   ]
  },
  {
   "cell_type": "code",
   "execution_count": 101,
   "id": "2f77b824-9090-481f-b120-b28fe9892c31",
   "metadata": {},
   "outputs": [],
   "source": [
    "dic=X_train[['srch_destination_id']].join(df[['hotel_country','hotel_market','hotel_cluster']])"
   ]
  },
  {
   "cell_type": "code",
   "execution_count": 102,
   "id": "abcda8dd-fd31-4f3a-a09f-ce079a9ed38f",
   "metadata": {},
   "outputs": [],
   "source": [
    "dic['num']=1"
   ]
  },
  {
   "cell_type": "code",
   "execution_count": 103,
   "id": "eb207ecd-0575-487b-9308-e178a4927493",
   "metadata": {},
   "outputs": [],
   "source": [
    "pieces = [dic.groupby(['srch_destination_id','hotel_country','hotel_market','hotel_cluster'])['num'].agg(['sum'])]\n",
    "agg = pd.concat(pieces).groupby(level=[0,1,2,3]).sum()\n",
    "agg.dropna(inplace=True)"
   ]
  },
  {
   "cell_type": "code",
   "execution_count": 104,
   "id": "2a4c010c-75b7-46fd-af40-a476d6a966aa",
   "metadata": {},
   "outputs": [
    {
     "data": {
      "text/html": [
       "<div>\n",
       "<style scoped>\n",
       "    .dataframe tbody tr th:only-of-type {\n",
       "        vertical-align: middle;\n",
       "    }\n",
       "\n",
       "    .dataframe tbody tr th {\n",
       "        vertical-align: top;\n",
       "    }\n",
       "\n",
       "    .dataframe thead th {\n",
       "        text-align: right;\n",
       "    }\n",
       "</style>\n",
       "<table border=\"1\" class=\"dataframe\">\n",
       "  <thead>\n",
       "    <tr style=\"text-align: right;\">\n",
       "      <th></th>\n",
       "      <th></th>\n",
       "      <th></th>\n",
       "      <th></th>\n",
       "      <th>sum</th>\n",
       "    </tr>\n",
       "    <tr>\n",
       "      <th>srch_destination_id</th>\n",
       "      <th>hotel_country</th>\n",
       "      <th>hotel_market</th>\n",
       "      <th>hotel_cluster</th>\n",
       "      <th></th>\n",
       "    </tr>\n",
       "  </thead>\n",
       "  <tbody>\n",
       "    <tr>\n",
       "      <th rowspan=\"3\" valign=\"top\">8</th>\n",
       "      <th rowspan=\"3\" valign=\"top\">50</th>\n",
       "      <th rowspan=\"3\" valign=\"top\">416</th>\n",
       "      <th>10</th>\n",
       "      <td>1</td>\n",
       "    </tr>\n",
       "    <tr>\n",
       "      <th>32</th>\n",
       "      <td>1</td>\n",
       "    </tr>\n",
       "    <tr>\n",
       "      <th>48</th>\n",
       "      <td>1</td>\n",
       "    </tr>\n",
       "    <tr>\n",
       "      <th rowspan=\"2\" valign=\"top\">11</th>\n",
       "      <th rowspan=\"2\" valign=\"top\">50</th>\n",
       "      <th rowspan=\"2\" valign=\"top\">824</th>\n",
       "      <th>42</th>\n",
       "      <td>1</td>\n",
       "    </tr>\n",
       "    <tr>\n",
       "      <th>48</th>\n",
       "      <td>1</td>\n",
       "    </tr>\n",
       "  </tbody>\n",
       "</table>\n",
       "</div>"
      ],
      "text/plain": [
       "                                                              sum\n",
       "srch_destination_id hotel_country hotel_market hotel_cluster     \n",
       "8                   50            416          10               1\n",
       "                                               32               1\n",
       "                                               48               1\n",
       "11                  50            824          42               1\n",
       "                                               48               1"
      ]
     },
     "execution_count": 104,
     "metadata": {},
     "output_type": "execute_result"
    }
   ],
   "source": [
    "agg.head()"
   ]
  },
  {
   "cell_type": "code",
   "execution_count": 105,
   "id": "8d1a83f3-eb7c-43e8-b04c-fb9f63d4e24a",
   "metadata": {},
   "outputs": [],
   "source": [
    "agg = agg.groupby(level=[0,1,2]).apply(lambda x: x.astype(float)/x.sum())\n",
    "agg.reset_index(inplace=True)"
   ]
  },
  {
   "cell_type": "code",
   "execution_count": 106,
   "id": "7ef9850d-05fd-4637-a2c8-1ea305b87ae9",
   "metadata": {},
   "outputs": [],
   "source": [
    "agg_pivot = agg.pivot_table(index=['srch_destination_id','hotel_country','hotel_market'], columns='hotel_cluster', values='sum').reset_index()"
   ]
  },
  {
   "cell_type": "code",
   "execution_count": 107,
   "id": "73266094-69f1-49f8-bf13-951076221156",
   "metadata": {},
   "outputs": [
    {
     "data": {
      "text/html": [
       "<div>\n",
       "<style scoped>\n",
       "    .dataframe tbody tr th:only-of-type {\n",
       "        vertical-align: middle;\n",
       "    }\n",
       "\n",
       "    .dataframe tbody tr th {\n",
       "        vertical-align: top;\n",
       "    }\n",
       "\n",
       "    .dataframe thead th {\n",
       "        text-align: right;\n",
       "    }\n",
       "</style>\n",
       "<table border=\"1\" class=\"dataframe\">\n",
       "  <thead>\n",
       "    <tr style=\"text-align: right;\">\n",
       "      <th>hotel_cluster</th>\n",
       "      <th>srch_destination_id</th>\n",
       "      <th>hotel_country</th>\n",
       "      <th>hotel_market</th>\n",
       "      <th>0</th>\n",
       "      <th>1</th>\n",
       "      <th>2</th>\n",
       "      <th>3</th>\n",
       "      <th>4</th>\n",
       "      <th>5</th>\n",
       "      <th>6</th>\n",
       "      <th>...</th>\n",
       "      <th>90</th>\n",
       "      <th>91</th>\n",
       "      <th>92</th>\n",
       "      <th>93</th>\n",
       "      <th>94</th>\n",
       "      <th>95</th>\n",
       "      <th>96</th>\n",
       "      <th>97</th>\n",
       "      <th>98</th>\n",
       "      <th>99</th>\n",
       "    </tr>\n",
       "  </thead>\n",
       "  <tbody>\n",
       "    <tr>\n",
       "      <th>0</th>\n",
       "      <td>8</td>\n",
       "      <td>50</td>\n",
       "      <td>416</td>\n",
       "      <td>NaN</td>\n",
       "      <td>NaN</td>\n",
       "      <td>NaN</td>\n",
       "      <td>NaN</td>\n",
       "      <td>NaN</td>\n",
       "      <td>NaN</td>\n",
       "      <td>NaN</td>\n",
       "      <td>...</td>\n",
       "      <td>NaN</td>\n",
       "      <td>NaN</td>\n",
       "      <td>NaN</td>\n",
       "      <td>NaN</td>\n",
       "      <td>NaN</td>\n",
       "      <td>NaN</td>\n",
       "      <td>NaN</td>\n",
       "      <td>NaN</td>\n",
       "      <td>NaN</td>\n",
       "      <td>NaN</td>\n",
       "    </tr>\n",
       "    <tr>\n",
       "      <th>1</th>\n",
       "      <td>11</td>\n",
       "      <td>50</td>\n",
       "      <td>824</td>\n",
       "      <td>NaN</td>\n",
       "      <td>NaN</td>\n",
       "      <td>NaN</td>\n",
       "      <td>NaN</td>\n",
       "      <td>NaN</td>\n",
       "      <td>NaN</td>\n",
       "      <td>NaN</td>\n",
       "      <td>...</td>\n",
       "      <td>NaN</td>\n",
       "      <td>NaN</td>\n",
       "      <td>NaN</td>\n",
       "      <td>NaN</td>\n",
       "      <td>NaN</td>\n",
       "      <td>NaN</td>\n",
       "      <td>NaN</td>\n",
       "      <td>NaN</td>\n",
       "      <td>NaN</td>\n",
       "      <td>NaN</td>\n",
       "    </tr>\n",
       "    <tr>\n",
       "      <th>2</th>\n",
       "      <td>14</td>\n",
       "      <td>27</td>\n",
       "      <td>1434</td>\n",
       "      <td>NaN</td>\n",
       "      <td>NaN</td>\n",
       "      <td>NaN</td>\n",
       "      <td>NaN</td>\n",
       "      <td>NaN</td>\n",
       "      <td>NaN</td>\n",
       "      <td>NaN</td>\n",
       "      <td>...</td>\n",
       "      <td>NaN</td>\n",
       "      <td>NaN</td>\n",
       "      <td>NaN</td>\n",
       "      <td>NaN</td>\n",
       "      <td>NaN</td>\n",
       "      <td>NaN</td>\n",
       "      <td>NaN</td>\n",
       "      <td>NaN</td>\n",
       "      <td>NaN</td>\n",
       "      <td>NaN</td>\n",
       "    </tr>\n",
       "    <tr>\n",
       "      <th>3</th>\n",
       "      <td>16</td>\n",
       "      <td>50</td>\n",
       "      <td>419</td>\n",
       "      <td>NaN</td>\n",
       "      <td>NaN</td>\n",
       "      <td>NaN</td>\n",
       "      <td>NaN</td>\n",
       "      <td>NaN</td>\n",
       "      <td>NaN</td>\n",
       "      <td>NaN</td>\n",
       "      <td>...</td>\n",
       "      <td>NaN</td>\n",
       "      <td>NaN</td>\n",
       "      <td>NaN</td>\n",
       "      <td>NaN</td>\n",
       "      <td>NaN</td>\n",
       "      <td>NaN</td>\n",
       "      <td>NaN</td>\n",
       "      <td>NaN</td>\n",
       "      <td>NaN</td>\n",
       "      <td>NaN</td>\n",
       "    </tr>\n",
       "    <tr>\n",
       "      <th>4</th>\n",
       "      <td>21</td>\n",
       "      <td>77</td>\n",
       "      <td>1454</td>\n",
       "      <td>NaN</td>\n",
       "      <td>NaN</td>\n",
       "      <td>NaN</td>\n",
       "      <td>NaN</td>\n",
       "      <td>NaN</td>\n",
       "      <td>NaN</td>\n",
       "      <td>NaN</td>\n",
       "      <td>...</td>\n",
       "      <td>NaN</td>\n",
       "      <td>NaN</td>\n",
       "      <td>NaN</td>\n",
       "      <td>NaN</td>\n",
       "      <td>NaN</td>\n",
       "      <td>NaN</td>\n",
       "      <td>NaN</td>\n",
       "      <td>NaN</td>\n",
       "      <td>NaN</td>\n",
       "      <td>NaN</td>\n",
       "    </tr>\n",
       "  </tbody>\n",
       "</table>\n",
       "<p>5 rows × 103 columns</p>\n",
       "</div>"
      ],
      "text/plain": [
       "hotel_cluster  srch_destination_id  hotel_country  hotel_market   0   1   2  \\\n",
       "0                                8             50           416 NaN NaN NaN   \n",
       "1                               11             50           824 NaN NaN NaN   \n",
       "2                               14             27          1434 NaN NaN NaN   \n",
       "3                               16             50           419 NaN NaN NaN   \n",
       "4                               21             77          1454 NaN NaN NaN   \n",
       "\n",
       "hotel_cluster   3   4   5   6  ...  90  91  92  93  94  95  96  97  98  99  \n",
       "0             NaN NaN NaN NaN  ... NaN NaN NaN NaN NaN NaN NaN NaN NaN NaN  \n",
       "1             NaN NaN NaN NaN  ... NaN NaN NaN NaN NaN NaN NaN NaN NaN NaN  \n",
       "2             NaN NaN NaN NaN  ... NaN NaN NaN NaN NaN NaN NaN NaN NaN NaN  \n",
       "3             NaN NaN NaN NaN  ... NaN NaN NaN NaN NaN NaN NaN NaN NaN NaN  \n",
       "4             NaN NaN NaN NaN  ... NaN NaN NaN NaN NaN NaN NaN NaN NaN NaN  \n",
       "\n",
       "[5 rows x 103 columns]"
      ]
     },
     "execution_count": 107,
     "metadata": {},
     "output_type": "execute_result"
    }
   ],
   "source": [
    "agg_pivot.head()"
   ]
  },
  {
   "cell_type": "code",
   "execution_count": 108,
   "id": "9a586a8f-d92a-4ba2-8914-18485b478f5a",
   "metadata": {},
   "outputs": [
    {
     "data": {
      "text/plain": [
       "(5374, 103)"
      ]
     },
     "execution_count": 108,
     "metadata": {},
     "output_type": "execute_result"
    }
   ],
   "source": [
    "agg_pivot.shape"
   ]
  },
  {
   "cell_type": "code",
   "execution_count": 109,
   "id": "d1358950-725e-4fab-8e27-4c2ae81f4d1f",
   "metadata": {},
   "outputs": [],
   "source": [
    "X_train = pd.merge(X_train, agg_pivot, how='left', on=['srch_destination_id','hotel_country','hotel_market'])"
   ]
  },
  {
   "cell_type": "code",
   "execution_count": 110,
   "id": "f27304a2-b86c-401f-b093-7ecb9c73147e",
   "metadata": {},
   "outputs": [],
   "source": [
    "X_test = pd.merge(X_test, agg_pivot, how='left', on=['srch_destination_id','hotel_country','hotel_market'])"
   ]
  },
  {
   "cell_type": "code",
   "execution_count": 111,
   "id": "28798e74-bbeb-4f07-ae5a-0b90a8fdf798",
   "metadata": {},
   "outputs": [],
   "source": [
    "X_train.fillna(0, inplace=True)\n",
    "X_test.fillna(0,inplace=True)"
   ]
  },
  {
   "cell_type": "code",
   "execution_count": 112,
   "id": "e34745c2-96c9-4bfe-91cf-821b9a360313",
   "metadata": {},
   "outputs": [
    {
     "data": {
      "text/plain": [
       "(24005, 226)"
      ]
     },
     "execution_count": 112,
     "metadata": {},
     "output_type": "execute_result"
    }
   ],
   "source": [
    "X_train.shape"
   ]
  },
  {
   "cell_type": "code",
   "execution_count": 113,
   "id": "6988083b-c2ed-4d82-b2af-d6a7f7f521b5",
   "metadata": {},
   "outputs": [],
   "source": [
    "scl=scaler.fit(X_train)"
   ]
  },
  {
   "cell_type": "code",
   "execution_count": 114,
   "id": "077c3aa3-b4ba-4b67-8dde-39a4df52ad25",
   "metadata": {},
   "outputs": [],
   "source": [
    "X_train=scl.transform(X_train)"
   ]
  },
  {
   "cell_type": "code",
   "execution_count": 115,
   "id": "8a232324-3862-42b1-b16f-2a31e9a40cf9",
   "metadata": {},
   "outputs": [],
   "source": [
    "X_test=scl.transform(X_test)"
   ]
  },
  {
   "cell_type": "code",
   "execution_count": 116,
   "id": "7ac2420f-e377-4638-a6ef-6a69dfe321fd",
   "metadata": {},
   "outputs": [
    {
     "data": {
      "text/plain": [
       "(6002, 226)"
      ]
     },
     "execution_count": 116,
     "metadata": {},
     "output_type": "execute_result"
    }
   ],
   "source": [
    "X_test.shape"
   ]
  },
  {
   "cell_type": "code",
   "execution_count": 117,
   "id": "8340ff7c-e88f-4715-be98-c0811f56d037",
   "metadata": {},
   "outputs": [],
   "source": [
    "#######Naive Bayes Model "
   ]
  },
  {
   "cell_type": "code",
   "execution_count": 118,
   "id": "ca084bce-dd6e-44fb-ae24-2dd0c5ba8c0c",
   "metadata": {},
   "outputs": [
    {
     "data": {
      "image/png": "[encoded data removed]",
      "text/plain": [
       "<Figure size 432x288 with 2 Axes>"
      ]
     },
     "metadata": {
      "needs_background": "light"
     },
     "output_type": "display_data"
    },
    {
     "name": "stdout",
     "output_type": "stream",
     "text": [
      "Categorical NB accuracy: predict 1 cluster is 0.0603, predict top 5 clusters is  0.0975.\n"
     ]
    }
   ],
   "source": [
    "# Categorical NB\n",
    "cnb = nb.CategoricalNB(min_categories=2)\n",
    "model = cnb.fit(X_train, y_train)\n",
    "y_pred = model.predict(X_test)\n",
    "y_pred_prob = model.predict_proba(X_test) \n",
    "C = confusion_matrix(y_test, y_pred)\n",
    "accuracy = accuracy_score(y_test, y_pred)\n",
    "sns.heatmap(C, cmap='Spectral')\n",
    "plt.title(f\"Confusion matrix with accuracy={accuracy: 3.3} and error rate ={1-accuracy:3.3}\")\n",
    "plt.show()\n",
    "\n",
    "#Predict top 5 clusters\n",
    "pred_prob= model.predict_proba(X_test)\n",
    "pre5=[]\n",
    "for i in range(pred_prob.shape[0]):\n",
    "    arr= pred_prob[i]\n",
    "    pre5.append(arr.argsort()[-5:][::-1])\n",
    "##Accuracy if we just predict 5 values\n",
    "s=0\n",
    "for i in range(len(y_test)):\n",
    "    a=y_test.iloc[i]['hotel_cluster']\n",
    "    x=list(pre5[i])\n",
    "    if a in x:\n",
    "        s+=1/(1+x.index(a))\n",
    "accuracy2= s/len(y_test)\n",
    "print(f'Categorical NB accuracy: predict 1 cluster is {accuracy:3.3}, predict top 5 clusters is {accuracy2: 3.3}.')"
   ]
  },
  {
   "cell_type": "code",
   "execution_count": 119,
   "id": "cfac10e3",
   "metadata": {},
   "outputs": [
    {
     "data": {
      "image/png": "[encoded data removed]",
      "text/plain": [
       "<Figure size 432x288 with 2 Axes>"
      ]
     },
     "metadata": {
      "needs_background": "light"
     },
     "output_type": "display_data"
    },
    {
     "name": "stdout",
     "output_type": "stream",
     "text": [
      "Multinomial NB model accuracy: predict 1 cluster is 0.134, predict top 5 clusters is  0.216.\n"
     ]
    }
   ],
   "source": [
    "# Multinomial NB\n",
    "mnb = nb.MultinomialNB()\n",
    "model = mnb.fit(X_train, y_train)\n",
    "y_pred = model.predict(X_test)\n",
    "y_pred_prob = model.predict_proba(X_test) \n",
    "C = confusion_matrix(y_test, y_pred)\n",
    "accuracy = accuracy_score(y_test, y_pred)\n",
    "sns.heatmap(C, cmap='Spectral')\n",
    "plt.title(f\"Confusion matrix with accuracy={accuracy: 3.3} and error rate ={1-accuracy:3.3}\")\n",
    "plt.show()\n",
    "\n",
    "#Predict top 5 clusters\n",
    "pred_prob= model.predict_proba(X_test)\n",
    "pre5=[]\n",
    "for i in range(pred_prob.shape[0]):\n",
    "    arr= pred_prob[i]\n",
    "    pre5.append(arr.argsort()[-5:][::-1])\n",
    "##Accuracy if we just predict 5 values\n",
    "s=0\n",
    "for i in range(len(y_test)):\n",
    "    a=y_test.iloc[i]['hotel_cluster']\n",
    "    x=list(pre5[i])\n",
    "    if a in x:\n",
    "        s+=1/(1+x.index(a))\n",
    "accuracy2= s/len(y_test)\n",
    "print(f'Multinomial NB model accuracy: predict 1 cluster is {accuracy:3.3}, predict top 5 clusters is {accuracy2: 3.3}.')"
   ]
  },
  {
   "cell_type": "code",
   "execution_count": 120,
   "id": "d008a481-572b-4e2c-bd23-276456a9ac73",
   "metadata": {},
   "outputs": [],
   "source": [
    "###Random forest Model "
   ]
  },
  {
   "cell_type": "code",
   "execution_count": 121,
   "id": "69070c5d-6bcc-4ebf-95b0-b3d82d4a971e",
   "metadata": {},
   "outputs": [
    {
     "name": "stdout",
     "output_type": "stream",
     "text": [
      "Model Performance\n",
      "accuracy= 0.118 and error rate =0.882, oob score=0.207\n",
      "model accuracy: predict 1 cluster is 0.118, predict top 5 clusters is  0.203.\n"
     ]
    }
   ],
   "source": [
    "#Base Random Forest Model\n",
    "rf_base = RandomForestClassifier(n_estimators=100, min_samples_leaf=500, oob_score=True, n_jobs=-1)\n",
    "rfmodel = rf_base.fit(X_train,y_train)\n",
    "#y_pred = rfmodel.predict(X_test)\n",
    "pred_prob = rfmodel.predict_proba(X_test)\n",
    "\n",
    "base_accuracy= evaluate(rfmodel,X_test,y_test)"
   ]
  },
  {
   "cell_type": "code",
   "execution_count": 122,
   "id": "ecc33b00",
   "metadata": {},
   "outputs": [],
   "source": [
    "#Hyper parameter tuning\n",
    "from sklearn.model_selection import RandomizedSearchCV\n",
    "# Number of trees in random forest\n",
    "n_estimators = [int(x) for x in np.linspace(start = 200, stop = 2000, num = 10)]\n",
    "# Minimum number of samples required at each leaf node\n",
    "min_samples_leaf = [int(x) for x in np.linspace(start = 30, stop = 500, num = 10)]\n",
    "# Method of selecting samples for training each tree\n",
    "bootstrap = [True, False]\n",
    "#oob score\n",
    "oob_score =True\n",
    "# Create the random grid\n",
    "random_grid = {'n_estimators': n_estimators,\n",
    "               'min_samples_leaf': min_samples_leaf,\n",
    "               'bootstrap': bootstrap,\n",
    "               }"
   ]
  },
  {
   "cell_type": "code",
   "execution_count": 123,
   "id": "199ec5e9",
   "metadata": {},
   "outputs": [
    {
     "name": "stdout",
     "output_type": "stream",
     "text": [
      "Fitting 3 folds for each of 10 candidates, totalling 30 fits\n",
      "best params: {'n_estimators': 1200, 'min_samples_leaf': 30, 'bootstrap': True}, best score: 0.311\n",
      "Model Performance\n",
      "accuracy= 0.147 and error rate =0.853, oob score=0.307\n",
      "model accuracy: predict 1 cluster is 0.147, predict top 5 clusters is  0.244.\n",
      "Improvement of 20.24%.\n"
     ]
    }
   ],
   "source": [
    "rf = RandomForestClassifier(oob_score=True)\n",
    "rf_random = RandomizedSearchCV(estimator = rf, param_distributions = random_grid, cv = 3, verbose=2, random_state=10, n_jobs = -1, scoring='accuracy')\n",
    "rf_random.fit(X_train, y_train)\n",
    "print(f\"best params: {rf_random.best_params_}, best score: {rf_random.best_score_:3.3}\")\n",
    "best_random = rf_random.best_estimator_\n",
    "random_accuracy = evaluate(best_random, X_test, y_test)\n",
    "print('Improvement of {:0.2f}%.'.format( 100 * (random_accuracy - base_accuracy) / base_accuracy))"
   ]
  },
  {
   "cell_type": "code",
   "execution_count": 124,
   "id": "6995b254-cec7-437c-9a86-c01dfc6db46a",
   "metadata": {},
   "outputs": [],
   "source": [
    "#####KNN Model "
   ]
  },
  {
   "cell_type": "code",
   "execution_count": 125,
   "id": "75a700f6-7033-446f-bfec-9de8ee5aecf6",
   "metadata": {},
   "outputs": [],
   "source": [
    "#Euclidean distance\n",
    "neigbor= [i for i in range(5,205,10)]\n",
    "rfE=[]\n",
    "for i in neigbor:\n",
    "    knnM= KNeighborsClassifier(n_neighbors=i)\n",
    "    x= np.mean(cross_val_score(knnM, X_train, y_train, cv=5, scoring='accuracy'))\n",
    "    rfE.append(x)"
   ]
  },
  {
   "cell_type": "code",
   "execution_count": 126,
   "id": "974e65b5-57c3-46df-ab67-fb1d1cfa4a78",
   "metadata": {},
   "outputs": [],
   "source": [
    "#Mahattan distance\n",
    "neigbor= [i for i in range(5,205,10)]\n",
    "rfM=[]\n",
    "for i in neigbor:\n",
    "    knnM= KNeighborsClassifier(n_neighbors=i,p=1,n_jobs=-1)\n",
    "    x= np.mean(cross_val_score(knnM, X_train, y_train, cv=5, scoring='accuracy'))\n",
    "    rfM.append(x)"
   ]
  },
  {
   "cell_type": "code",
   "execution_count": 127,
   "id": "2722cb4b-767e-4c1a-8fb9-d3f1d6293bbe",
   "metadata": {},
   "outputs": [
    {
     "data": {
      "image/png": "[encoded data removed]",
      "text/plain": [
       "<Figure size 432x288 with 1 Axes>"
      ]
     },
     "metadata": {
      "needs_background": "light"
     },
     "output_type": "display_data"
    }
   ],
   "source": [
    "plt.plot(range(5,205,10), rfM, label = 'Mahattan distance')\n",
    "plt.plot(range(5,205,10), rfE, label = 'Euclidean distance')\n",
    "plt.xlabel('k')\n",
    "plt.ylabel('Accuracy')\n",
    "plt.title('KNN cross validation ')\n",
    "plt.legend()\n",
    "plt.show()"
   ]
  },
  {
   "cell_type": "code",
   "execution_count": 128,
   "id": "3c7df3bd-e962-4041-a4f3-7fd7de4809c1",
   "metadata": {},
   "outputs": [
    {
     "name": "stdout",
     "output_type": "stream",
     "text": [
      "Best number of k for Mahattan distance is 55 with the CV accuracy is 0.209\n",
      "Best number of k for Euclidean distance is 95 with the CV accuracy is 0.232\n"
     ]
    }
   ],
   "source": [
    "print(f'Best number of k for Mahattan distance is {neigbor[rfM.index(max(rfM))]} with the CV accuracy is {max(rfM):3.3}')\n",
    "print(f'Best number of k for Euclidean distance is {neigbor[rfE.index(max(rfE))]} with the CV accuracy is {max(rfE):3.3}')"
   ]
  },
  {
   "cell_type": "code",
   "execution_count": 129,
   "id": "8a62c171-83fc-45a0-a926-81af40f7d7d7",
   "metadata": {},
   "outputs": [
    {
     "name": "stdout",
     "output_type": "stream",
     "text": [
      "Euclidean KNN model accuracy: predict 1 cluster is 0.119, predict top 5 clusters is  0.196.\n"
     ]
    }
   ],
   "source": [
    "k=neigbor[rfE.index(max(rfE))]\n",
    "#Estimate model with best k for Euclidean distance\n",
    "kM= KNeighborsClassifier(n_neighbors=k)\n",
    "kM.fit(X_train, y_train)\n",
    "y_pred= kM.predict(X_test)\n",
    "C= confusion_matrix(y_test, y_pred)\n",
    "\n",
    "#Accuracy if we just predict 1 value\n",
    "acc1= sum(np.diag(C))/C.sum()\n",
    "\n",
    "#Predict top 5 clusters\n",
    "pred_prob= kM.predict_proba(X_test)\n",
    "pre5=[]\n",
    "for i in range(pred_prob.shape[0]):\n",
    "    arr= pred_prob[i]\n",
    "    pre5.append(arr.argsort()[-5:][::-1])\n",
    "##Accuracy if we just predict 5 values\n",
    "s=0\n",
    "for i in range(len(y_test)):\n",
    "    a=y_test.iloc[i]['hotel_cluster']\n",
    "    x=list(pre5[i])\n",
    "    if a in x:\n",
    "        s+=1/(1+x.index(a))\n",
    "acc2= s/len(y_test)\n",
    "print(f'Euclidean KNN model accuracy: predict 1 cluster is {acc1:3.3}, predict top 5 clusters is {acc2: 3.3}.')"
   ]
  },
  {
   "cell_type": "code",
   "execution_count": 130,
   "id": "9d1cc6f2-e069-4a07-9023-7544df138c85",
   "metadata": {},
   "outputs": [
    {
     "name": "stdout",
     "output_type": "stream",
     "text": [
      "Mahattan KNN model accuracy: predict 1 cluster is 0.126, predict top 5 clusters is  0.214.\n"
     ]
    }
   ],
   "source": [
    "k=neigbor[rfM.index(max(rfM))]\n",
    "#Estimate model with best k for Euclidean distance\n",
    "kM= KNeighborsClassifier(n_neighbors=k, p=1, n_jobs=-1)\n",
    "kM.fit(X_train, y_train)\n",
    "y_pred= kM.predict(X_test)\n",
    "C= confusion_matrix(y_test, y_pred)\n",
    "\n",
    "#Accuracy if we just predict 1 value\n",
    "acc1= sum(np.diag(C))/C.sum()\n",
    "\n",
    "#Predict top 5 clusters\n",
    "pred_prob= kM.predict_proba(X_test)\n",
    "pre5=[]\n",
    "for i in range(pred_prob.shape[0]):\n",
    "    arr= pred_prob[i]\n",
    "    pre5.append(arr.argsort()[-5:][::-1])\n",
    "##Accuracy if we just predict 5 values\n",
    "s=0\n",
    "for i in range(len(y_test)):\n",
    "    a=y_test.iloc[i]['hotel_cluster']\n",
    "    x=list(pre5[i])\n",
    "    if a in x:\n",
    "        s+=1/(1+x.index(a))\n",
    "acc2= s/len(y_test)\n",
    "print(f'Mahattan KNN model accuracy: predict 1 cluster is {acc1:3.3}, predict top 5 clusters is {acc2: 3.3}.')"
   ]
  },
  {
   "cell_type": "code",
   "execution_count": 131,
   "id": "c755c920-7c8e-473d-a793-4c433812be98",
   "metadata": {},
   "outputs": [],
   "source": [
    "#### SVM"
   ]
  },
  {
   "cell_type": "code",
   "execution_count": 132,
   "id": "dcd65f28-4200-4a8c-9547-8b4bc59b13a2",
   "metadata": {},
   "outputs": [
    {
     "name": "stdout",
     "output_type": "stream",
     "text": [
      "SVM model accuracy: predict 1 cluster is 0.139, predict top 5 clusters is  0.231.\n"
     ]
    }
   ],
   "source": [
    "# kernel{‘linear’, ‘poly’, ‘rbf’, ‘sigmoid’, ‘precomputed’},\n",
    "svm_model=SVC(kernel=\"rbf\", decision_function_shape='ovo', probability=True)\n",
    "#svm_model=SVC(kernel=\"linear\",probability=True)\n",
    "#svm_model=SVC(kernel=\"rbf\",probability=True)\n",
    "\n",
    "svm_model.fit(X_train, y_train)\n",
    "\n",
    "y_pred= svm_model.predict(X_test)\n",
    "C= confusion_matrix(y_test, y_pred)\n",
    "\n",
    "#Accuracy if we just predict 1 value\n",
    "acc1= sum(np.diag(C))/C.sum()\n",
    "\n",
    "#Predict top 5 clusters\n",
    "pred_prob= svm_model.predict_proba(X_test)\n",
    "pre5=[]\n",
    "for i in range(pred_prob.shape[0]):\n",
    "    arr= pred_prob[i]\n",
    "    pre5.append(arr.argsort()[-5:][::-1])\n",
    "##Accuracy if we just predict 5 values\n",
    "s=0\n",
    "for i in range(len(y_test)):\n",
    "    a=y_test.iloc[i]['hotel_cluster']\n",
    "    x=list(pre5[i])\n",
    "    if a in x:\n",
    "        s+=1/(1+x.index(a))\n",
    "acc2= s/len(y_test)\n",
    "print(f'SVM model accuracy: predict 1 cluster is {acc1:3.3}, predict top 5 clusters is {acc2: 3.3}.')\n"
   ]
  },
  {
   "cell_type": "code",
   "execution_count": null,
   "id": "9d439198-805b-4b32-bcb6-1e3fa6f4fdb2",
   "metadata": {},
   "outputs": [],
   "source": []
  },
  {
   "cell_type": "code",
   "execution_count": null,
   "id": "b4c96fbb-8eb8-4840-a91c-eecb9f0bcf0b",
   "metadata": {},
   "outputs": [],
   "source": []
  },
  {
   "cell_type": "code",
   "execution_count": null,
   "id": "f8671599-64bc-4168-bb39-e56e1d98634e",
   "metadata": {},
   "outputs": [],
   "source": []
  }
 ],
 "metadata": {
  "kernelspec": {
   "display_name": "Python 3",
   "language": "python",
   "name": "python3"
  },
  "language_info": {
   "codemirror_mode": {
    "name": "ipython",
    "version": 3
   },
   "file_extension": ".py",
   "mimetype": "text/x-python",
   "name": "python",
   "nbconvert_exporter": "python",
   "pygments_lexer": "ipython3",
   "version": "3.8.8"
  }
 },
 "nbformat": 4,
 "nbformat_minor": 5
}
